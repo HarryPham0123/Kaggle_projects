{
 "cells": [
  {
   "cell_type": "markdown",
   "metadata": {},
   "source": [
    "# Titanic ensemble modeling classifier\n",
    "\n",
    "30/7/2021\n",
    "* [**1. Introduction**](#1)\n",
    "  * [1.1 Import library](#1.1)\n",
    "  * [1.2 Loading data](#1.2)\n",
    "* [**2. Getting familiar with data (Data analysis)**](#2) \n",
    "  * [2.1 Missing value](#2.1)\n",
    "     * [2.1.1 Age](#2.1.1)\n",
    "     * [2.1.2 Embarked](#2.1.2)\n",
    "     * [2.1.3 Fare](#2.1.3)\n",
    "     * [2.1.4 Cabin](#2.1.4)\n",
    "  * [2.2 Visualization](#2.2)\n",
    "     * [2.2.1 Visualize percentage of passengers based on \"Deck\" and \"Pclass\" features](#2.2.1)\n",
    "     * [2.2.2 Visualize survival percentage in each \"Deck\" feature](#2.2.2)\n",
    "  * [2.3 Target column distribution](#2.3)\n",
    "  * [2.4 Correlations](#2.4)\n",
    "  * [2.5 Categorical features](#2.5)\n",
    "  * [2.6 Remark](#2.6)\n",
    "* [**3. Feature engineer**](#3)\n",
    "  * [3.1 Binning Coutinuous features](#3.1)\n",
    "     * [3.1.1 Fare](#3.1.1)\n",
    "     * [3.1.2 Age](#3.1.2)\n",
    "  * [3.2 Frequency Encoded Binning](#3.2)\n",
    "     * [3.2.1 Family size](#3.2.1)\n",
    "     * [3.2.2 Ticket frequency](#3.2.2)\n",
    "  * [3.3 Title & is Married](#3.3)\n",
    "  * [3.4 Feature transformation](#3.4)\n",
    "     * [3.4.1 Label encoding non-numerical features](#3.4.1)\n",
    "     * [3.4.2 One-hot encoding the categorical features](#3.4.2)\n",
    "* [**4. Modeling**](#4)\n",
    "  * [4.1 Cross validation simple models](#4.1)\n",
    "  * [4.2 Hyper parameters tunning](#4.2)\n",
    "  * [4.3 Confusion matrix](#4.3)\n",
    "  * [4.4 Ensemble model](#4.4)\n",
    "  * [4.5 Submission](#4.5)"
   ]
  },
  {
   "cell_type": "markdown",
   "metadata": {},
   "source": [
    "<a name='1'></a>\n",
    "# 1. Introduction\n",
    "This project is on the titanic which was on 14 April 1912. Before it was colliding with an ice berg and ended up at the bottom of the Alantic sea. She was the biggest moveable object at the time. She was call \"unsinkable\". Which was not true. Over a thousand people died in the icy sea that night\n",
    "\n",
    "<img src=\"images/titanic_intro.jpg\" style=\"width:500px;height:300px;\">\n",
    "\n",
    "*By the end of this notebook, we'll go through*\n",
    "* **Data analysis** \n",
    "    * (Missing value, data visualization, correlation table, categorical features)\n",
    "* **Feature engineering** \n",
    "    * (Binning continuous features, Frequency encoded binning, Feature transformation)\n",
    "* **Modeling** \n",
    "    * (Cross validation technique, Hyper parameter tunning, Confusion matrix)"
   ]
  },
  {
   "cell_type": "markdown",
   "metadata": {},
   "source": [
    "<a name='1.1'></a>\n",
    "## 1.1 Import library"
   ]
  },
  {
   "cell_type": "code",
   "execution_count": 1,
   "metadata": {},
   "outputs": [],
   "source": [
    "import pandas as pd\n",
    "import numpy as np\n",
    "import matplotlib.pyplot as plt\n",
    "import seaborn as sns\n",
    "%matplotlib inline\n",
    "\n",
    "from sklearn import preprocessing\n",
    "from sklearn.metrics import confusion_matrix, ConfusionMatrixDisplay\n",
    "from sklearn.model_selection import StratifiedKFold, GridSearchCV\n",
    "SEED = 42\n",
    "\n",
    "#Common Model Algorithms\n",
    "from sklearn import svm, tree, linear_model, neighbors, naive_bayes, ensemble, discriminant_analysis, gaussian_process\n",
    "from xgboost import XGBClassifier\n",
    "\n",
    "import warnings\n",
    "import time\n",
    "warnings.filterwarnings('ignore')"
   ]
  },
  {
   "cell_type": "markdown",
   "metadata": {},
   "source": [
    "<a name='1.2'></a>\n",
    "## 1.2 Loading data\n",
    "- Training set has 891 rows, testing set has 418 rows\n",
    "- There are 12 features in training set and 11 features in testing set\n",
    "- One extra feature in training set is \"Survived\" which is the target feature"
   ]
  },
  {
   "cell_type": "code",
   "execution_count": 2,
   "metadata": {},
   "outputs": [
    {
     "name": "stdout",
     "output_type": "stream",
     "text": [
      "Number of Training Examples = 891\n",
      "Number of Test Examples = 418\n",
      "\n",
      "Training X Shape = (891, 12)\n",
      "Training y Shape = 891\n",
      "\n",
      "Test X Shape = (418, 11)\n",
      "Test y Shape = 418\n",
      "\n",
      "Index(['PassengerId', 'Survived', 'Pclass', 'Name', 'Sex', 'Age', 'SibSp',\n",
      "       'Parch', 'Ticket', 'Fare', 'Cabin', 'Embarked'],\n",
      "      dtype='object')\n",
      "Index(['PassengerId', 'Pclass', 'Name', 'Sex', 'Age', 'SibSp', 'Parch',\n",
      "       'Ticket', 'Fare', 'Cabin', 'Embarked'],\n",
      "      dtype='object')\n"
     ]
    }
   ],
   "source": [
    "def concat_df(train_data, test_data):\n",
    "    # Returns a concatenated df of training and test set\n",
    "    return pd.concat([train_data, test_data], sort=True).reset_index(drop=True)\n",
    "\n",
    "def divide_df(all_data):\n",
    "    # Returns divided dfs of training and test set\n",
    "    return all_data.loc[:890], all_data.loc[891:].drop(['Survived'], axis=1)\n",
    "\n",
    "df_train = pd.read_csv('data/train.csv')\n",
    "df_test = pd.read_csv('data/test.csv')\n",
    "df_all = concat_df(df_train, df_test)\n",
    "\n",
    "df_train.name = 'Training Set'\n",
    "df_test.name = 'Test Set'\n",
    "df_all.name = 'All Set' \n",
    "\n",
    "dfs = [df_train, df_test]\n",
    "\n",
    "print(f'Number of Training Examples = {df_train.shape[0]}')\n",
    "print(f'Number of Test Examples = {df_test.shape[0]}\\n')\n",
    "print(f'Training X Shape = {df_train.shape}')\n",
    "print(f'Training y Shape = {df_train[\"Survived\"].shape[0]}\\n')\n",
    "print(f'Test X Shape = {df_test.shape}')\n",
    "print(f'Test y Shape = {df_test.shape[0]}\\n')\n",
    "print(df_train.columns)\n",
    "print(df_test.columns)"
   ]
  },
  {
   "cell_type": "markdown",
   "metadata": {},
   "source": [
    "<a name='2'></a>\n",
    "# 2. Getting familiar with data\n",
    "- **PassengerId** is the unique id of the row and it doesn't have any effect on target\n",
    "- **Survived** is the target variable we are trying to predict (*0=Not Survived* or *1=Survived*)\n",
    "- **Pclass** (Passenger class) is the socio-economic status of the passenger and it is a categorical ordinal feature which has 3 unique values (*1=Upper Class*, *2=Middle Class* or *3=Lower Class*)\n",
    "- **Name**, **Sex** and **Age** are self-explantory\n",
    "- **SipSp** the total number of passenger's siblings and spouses\n",
    "- **Parch** the total number of passenger's parent and children\n",
    "- **Ticket** the ticket number of passenger\n",
    "- **Fare** Passenger's fare\n",
    "- **Cabin** is the cabin number of passenger\n",
    "- **Embarked** is port of embarkation and it is a categorical feature which has 3 unique values (*C=Cherbourg*, *Q=Queenstown* or *S=Southampton*)"
   ]
  },
  {
   "cell_type": "code",
   "execution_count": 3,
   "metadata": {},
   "outputs": [
    {
     "name": "stdout",
     "output_type": "stream",
     "text": [
      "<class 'pandas.core.frame.DataFrame'>\n",
      "RangeIndex: 891 entries, 0 to 890\n",
      "Data columns (total 12 columns):\n",
      " #   Column       Non-Null Count  Dtype  \n",
      "---  ------       --------------  -----  \n",
      " 0   PassengerId  891 non-null    int64  \n",
      " 1   Survived     891 non-null    int64  \n",
      " 2   Pclass       891 non-null    int64  \n",
      " 3   Name         891 non-null    object \n",
      " 4   Sex          891 non-null    object \n",
      " 5   Age          714 non-null    float64\n",
      " 6   SibSp        891 non-null    int64  \n",
      " 7   Parch        891 non-null    int64  \n",
      " 8   Ticket       891 non-null    object \n",
      " 9   Fare         891 non-null    float64\n",
      " 10  Cabin        204 non-null    object \n",
      " 11  Embarked     889 non-null    object \n",
      "dtypes: float64(2), int64(5), object(5)\n",
      "memory usage: 83.7+ KB\n",
      "None\n"
     ]
    },
    {
     "data": {
      "text/html": [
       "<div>\n",
       "<style scoped>\n",
       "    .dataframe tbody tr th:only-of-type {\n",
       "        vertical-align: middle;\n",
       "    }\n",
       "\n",
       "    .dataframe tbody tr th {\n",
       "        vertical-align: top;\n",
       "    }\n",
       "\n",
       "    .dataframe thead th {\n",
       "        text-align: right;\n",
       "    }\n",
       "</style>\n",
       "<table border=\"1\" class=\"dataframe\">\n",
       "  <thead>\n",
       "    <tr style=\"text-align: right;\">\n",
       "      <th></th>\n",
       "      <th>PassengerId</th>\n",
       "      <th>Survived</th>\n",
       "      <th>Pclass</th>\n",
       "      <th>Name</th>\n",
       "      <th>Sex</th>\n",
       "      <th>Age</th>\n",
       "      <th>SibSp</th>\n",
       "      <th>Parch</th>\n",
       "      <th>Ticket</th>\n",
       "      <th>Fare</th>\n",
       "      <th>Cabin</th>\n",
       "      <th>Embarked</th>\n",
       "    </tr>\n",
       "  </thead>\n",
       "  <tbody>\n",
       "    <tr>\n",
       "      <th>0</th>\n",
       "      <td>1</td>\n",
       "      <td>0</td>\n",
       "      <td>3</td>\n",
       "      <td>Braund, Mr. Owen Harris</td>\n",
       "      <td>male</td>\n",
       "      <td>22.0</td>\n",
       "      <td>1</td>\n",
       "      <td>0</td>\n",
       "      <td>A/5 21171</td>\n",
       "      <td>7.2500</td>\n",
       "      <td>NaN</td>\n",
       "      <td>S</td>\n",
       "    </tr>\n",
       "    <tr>\n",
       "      <th>1</th>\n",
       "      <td>2</td>\n",
       "      <td>1</td>\n",
       "      <td>1</td>\n",
       "      <td>Cumings, Mrs. John Bradley (Florence Briggs Th...</td>\n",
       "      <td>female</td>\n",
       "      <td>38.0</td>\n",
       "      <td>1</td>\n",
       "      <td>0</td>\n",
       "      <td>PC 17599</td>\n",
       "      <td>71.2833</td>\n",
       "      <td>C85</td>\n",
       "      <td>C</td>\n",
       "    </tr>\n",
       "    <tr>\n",
       "      <th>2</th>\n",
       "      <td>3</td>\n",
       "      <td>1</td>\n",
       "      <td>3</td>\n",
       "      <td>Heikkinen, Miss. Laina</td>\n",
       "      <td>female</td>\n",
       "      <td>26.0</td>\n",
       "      <td>0</td>\n",
       "      <td>0</td>\n",
       "      <td>STON/O2. 3101282</td>\n",
       "      <td>7.9250</td>\n",
       "      <td>NaN</td>\n",
       "      <td>S</td>\n",
       "    </tr>\n",
       "  </tbody>\n",
       "</table>\n",
       "</div>"
      ],
      "text/plain": [
       "   PassengerId  Survived  Pclass  \\\n",
       "0            1         0       3   \n",
       "1            2         1       1   \n",
       "2            3         1       3   \n",
       "\n",
       "                                                Name     Sex   Age  SibSp  \\\n",
       "0                            Braund, Mr. Owen Harris    male  22.0      1   \n",
       "1  Cumings, Mrs. John Bradley (Florence Briggs Th...  female  38.0      1   \n",
       "2                             Heikkinen, Miss. Laina  female  26.0      0   \n",
       "\n",
       "   Parch            Ticket     Fare Cabin Embarked  \n",
       "0      0         A/5 21171   7.2500   NaN        S  \n",
       "1      0          PC 17599  71.2833   C85        C  \n",
       "2      0  STON/O2. 3101282   7.9250   NaN        S  "
      ]
     },
     "execution_count": 3,
     "metadata": {},
     "output_type": "execute_result"
    }
   ],
   "source": [
    "print(df_train.info())\n",
    "df_train.head(3)"
   ]
  },
  {
   "cell_type": "code",
   "execution_count": 4,
   "metadata": {},
   "outputs": [
    {
     "name": "stdout",
     "output_type": "stream",
     "text": [
      "<class 'pandas.core.frame.DataFrame'>\n",
      "RangeIndex: 418 entries, 0 to 417\n",
      "Data columns (total 11 columns):\n",
      " #   Column       Non-Null Count  Dtype  \n",
      "---  ------       --------------  -----  \n",
      " 0   PassengerId  418 non-null    int64  \n",
      " 1   Pclass       418 non-null    int64  \n",
      " 2   Name         418 non-null    object \n",
      " 3   Sex          418 non-null    object \n",
      " 4   Age          332 non-null    float64\n",
      " 5   SibSp        418 non-null    int64  \n",
      " 6   Parch        418 non-null    int64  \n",
      " 7   Ticket       418 non-null    object \n",
      " 8   Fare         417 non-null    float64\n",
      " 9   Cabin        91 non-null     object \n",
      " 10  Embarked     418 non-null    object \n",
      "dtypes: float64(2), int64(4), object(5)\n",
      "memory usage: 36.0+ KB\n",
      "None\n"
     ]
    },
    {
     "data": {
      "text/html": [
       "<div>\n",
       "<style scoped>\n",
       "    .dataframe tbody tr th:only-of-type {\n",
       "        vertical-align: middle;\n",
       "    }\n",
       "\n",
       "    .dataframe tbody tr th {\n",
       "        vertical-align: top;\n",
       "    }\n",
       "\n",
       "    .dataframe thead th {\n",
       "        text-align: right;\n",
       "    }\n",
       "</style>\n",
       "<table border=\"1\" class=\"dataframe\">\n",
       "  <thead>\n",
       "    <tr style=\"text-align: right;\">\n",
       "      <th></th>\n",
       "      <th>PassengerId</th>\n",
       "      <th>Pclass</th>\n",
       "      <th>Name</th>\n",
       "      <th>Sex</th>\n",
       "      <th>Age</th>\n",
       "      <th>SibSp</th>\n",
       "      <th>Parch</th>\n",
       "      <th>Ticket</th>\n",
       "      <th>Fare</th>\n",
       "      <th>Cabin</th>\n",
       "      <th>Embarked</th>\n",
       "    </tr>\n",
       "  </thead>\n",
       "  <tbody>\n",
       "    <tr>\n",
       "      <th>0</th>\n",
       "      <td>892</td>\n",
       "      <td>3</td>\n",
       "      <td>Kelly, Mr. James</td>\n",
       "      <td>male</td>\n",
       "      <td>34.5</td>\n",
       "      <td>0</td>\n",
       "      <td>0</td>\n",
       "      <td>330911</td>\n",
       "      <td>7.8292</td>\n",
       "      <td>NaN</td>\n",
       "      <td>Q</td>\n",
       "    </tr>\n",
       "    <tr>\n",
       "      <th>1</th>\n",
       "      <td>893</td>\n",
       "      <td>3</td>\n",
       "      <td>Wilkes, Mrs. James (Ellen Needs)</td>\n",
       "      <td>female</td>\n",
       "      <td>47.0</td>\n",
       "      <td>1</td>\n",
       "      <td>0</td>\n",
       "      <td>363272</td>\n",
       "      <td>7.0000</td>\n",
       "      <td>NaN</td>\n",
       "      <td>S</td>\n",
       "    </tr>\n",
       "    <tr>\n",
       "      <th>2</th>\n",
       "      <td>894</td>\n",
       "      <td>2</td>\n",
       "      <td>Myles, Mr. Thomas Francis</td>\n",
       "      <td>male</td>\n",
       "      <td>62.0</td>\n",
       "      <td>0</td>\n",
       "      <td>0</td>\n",
       "      <td>240276</td>\n",
       "      <td>9.6875</td>\n",
       "      <td>NaN</td>\n",
       "      <td>Q</td>\n",
       "    </tr>\n",
       "  </tbody>\n",
       "</table>\n",
       "</div>"
      ],
      "text/plain": [
       "   PassengerId  Pclass                              Name     Sex   Age  SibSp  \\\n",
       "0          892       3                  Kelly, Mr. James    male  34.5      0   \n",
       "1          893       3  Wilkes, Mrs. James (Ellen Needs)  female  47.0      1   \n",
       "2          894       2         Myles, Mr. Thomas Francis    male  62.0      0   \n",
       "\n",
       "   Parch  Ticket    Fare Cabin Embarked  \n",
       "0      0  330911  7.8292   NaN        Q  \n",
       "1      0  363272  7.0000   NaN        S  \n",
       "2      0  240276  9.6875   NaN        Q  "
      ]
     },
     "execution_count": 4,
     "metadata": {},
     "output_type": "execute_result"
    }
   ],
   "source": [
    "print(df_test.info())\n",
    "df_test.head(3)"
   ]
  },
  {
   "cell_type": "markdown",
   "metadata": {},
   "source": [
    "<a name='2.1'></a>\n",
    "## 2.1 Missing value\n",
    "(Which columns contain missing value?)\n",
    "<br>As we seen below, the *display_missing()* function count number of missing value in each feature of both training and testing dataset\n",
    "- Columns in training set contained missing value: **Age**, **Cabin**, **Embarked**\n",
    "- Columns in testing set contained missing value: **Age**, **Fare**, **Cabin**\n",
    "<br>\n",
    "\n",
    "**Remark**\n",
    "- It's more convinient to concatunate training and testing set when dealing with features containing missing value.\n",
    "- The missing value of \"Age\", \"Embarked\" and \"fare\" is smaller compared to total samples, but roughly 80% of \"Cabin\" value is missing\n",
    "- The missing value of \"Age\", \"Embarked\" and \"fare\" can be filled with descriptive statistic (median or mean) but this shouldn't be applied for \"Cabin\" feature"
   ]
  },
  {
   "cell_type": "code",
   "execution_count": 5,
   "metadata": {},
   "outputs": [
    {
     "name": "stdout",
     "output_type": "stream",
     "text": [
      "Missing values in Training Set\n",
      "PassengerId      0\n",
      "Survived         0\n",
      "Pclass           0\n",
      "Name             0\n",
      "Sex              0\n",
      "Age            177\n",
      "SibSp            0\n",
      "Parch            0\n",
      "Ticket           0\n",
      "Fare             0\n",
      "Cabin          687\n",
      "Embarked         2\n",
      "dtype: int64 \n",
      "\n",
      "Missing values in Test Set\n",
      "PassengerId      0\n",
      "Pclass           0\n",
      "Name             0\n",
      "Sex              0\n",
      "Age             86\n",
      "SibSp            0\n",
      "Parch            0\n",
      "Ticket           0\n",
      "Fare             1\n",
      "Cabin          327\n",
      "Embarked         0\n",
      "dtype: int64 \n",
      "\n"
     ]
    }
   ],
   "source": [
    "for df in dfs:\n",
    "    print(f'Missing values in {df.name}')\n",
    "    print(df.isnull().sum(), \"\\n\")"
   ]
  },
  {
   "cell_type": "markdown",
   "metadata": {},
   "source": [
    "<a name='2.1.1'></a>\n",
    "### 2.1.1 Age\n",
    "- Missing value of \"Age\" can be filled with median but using median age for the whole dataset is not a good choice. Fristly, we need to figure out which features are highly correlated with \"Age\" columns\n",
    "- Based on correlation table, **Pclass** groups is the **best choice** because of its *high correlation* with Age(0.408) --> It's also logical that the passenger class is highly correlated with Age of passenger\n",
    "\n",
    "(NOTE) .reset_index() can be used to transform to dataframe"
   ]
  },
  {
   "cell_type": "code",
   "execution_count": 6,
   "metadata": {},
   "outputs": [
    {
     "data": {
      "text/html": [
       "<div>\n",
       "<style scoped>\n",
       "    .dataframe tbody tr th:only-of-type {\n",
       "        vertical-align: middle;\n",
       "    }\n",
       "\n",
       "    .dataframe tbody tr th {\n",
       "        vertical-align: top;\n",
       "    }\n",
       "\n",
       "    .dataframe thead th {\n",
       "        text-align: right;\n",
       "    }\n",
       "</style>\n",
       "<table border=\"1\" class=\"dataframe\">\n",
       "  <thead>\n",
       "    <tr style=\"text-align: right;\">\n",
       "      <th></th>\n",
       "      <th>level_0</th>\n",
       "      <th>level_1</th>\n",
       "      <th>Correlation</th>\n",
       "    </tr>\n",
       "  </thead>\n",
       "  <tbody>\n",
       "    <tr>\n",
       "      <th>6</th>\n",
       "      <td>Age</td>\n",
       "      <td>Age</td>\n",
       "      <td>1.000000</td>\n",
       "    </tr>\n",
       "    <tr>\n",
       "      <th>10</th>\n",
       "      <td>Age</td>\n",
       "      <td>Pclass</td>\n",
       "      <td>0.408106</td>\n",
       "    </tr>\n",
       "    <tr>\n",
       "      <th>18</th>\n",
       "      <td>Age</td>\n",
       "      <td>SibSp</td>\n",
       "      <td>0.243699</td>\n",
       "    </tr>\n",
       "    <tr>\n",
       "      <th>22</th>\n",
       "      <td>Age</td>\n",
       "      <td>Fare</td>\n",
       "      <td>0.178740</td>\n",
       "    </tr>\n",
       "    <tr>\n",
       "      <th>26</th>\n",
       "      <td>Age</td>\n",
       "      <td>Parch</td>\n",
       "      <td>0.150917</td>\n",
       "    </tr>\n",
       "    <tr>\n",
       "      <th>30</th>\n",
       "      <td>Age</td>\n",
       "      <td>Survived</td>\n",
       "      <td>0.077221</td>\n",
       "    </tr>\n",
       "    <tr>\n",
       "      <th>42</th>\n",
       "      <td>Age</td>\n",
       "      <td>PassengerId</td>\n",
       "      <td>0.028814</td>\n",
       "    </tr>\n",
       "  </tbody>\n",
       "</table>\n",
       "</div>"
      ],
      "text/plain": [
       "   level_0      level_1  Correlation\n",
       "6      Age          Age     1.000000\n",
       "10     Age       Pclass     0.408106\n",
       "18     Age        SibSp     0.243699\n",
       "22     Age         Fare     0.178740\n",
       "26     Age        Parch     0.150917\n",
       "30     Age     Survived     0.077221\n",
       "42     Age  PassengerId     0.028814"
      ]
     },
     "execution_count": 6,
     "metadata": {},
     "output_type": "execute_result"
    }
   ],
   "source": [
    "# Correlation table between features\n",
    "df_all_corr = df_all.corr().abs().unstack().sort_values(kind=\"mergesort\", ascending=False).reset_index()\n",
    "df_all_corr.rename(columns={0:'Correlation'}, inplace=True)\n",
    "df_all_corr.loc[df_all_corr['level_0'] == 'Age']"
   ]
  },
  {
   "cell_type": "markdown",
   "metadata": {},
   "source": [
    "- **Sex** level can be considered as the second level of groupby while filling the missing value of **Age**\n",
    "- By looking at the table, the higher the level of Pclass, the higher the median of Age's values & the Age's value of males tends to be higher than those of females"
   ]
  },
  {
   "cell_type": "code",
   "execution_count": 7,
   "metadata": {},
   "outputs": [
    {
     "data": {
      "text/html": [
       "<div>\n",
       "<style scoped>\n",
       "    .dataframe tbody tr th:only-of-type {\n",
       "        vertical-align: middle;\n",
       "    }\n",
       "\n",
       "    .dataframe tbody tr th {\n",
       "        vertical-align: top;\n",
       "    }\n",
       "\n",
       "    .dataframe thead th {\n",
       "        text-align: right;\n",
       "    }\n",
       "</style>\n",
       "<table border=\"1\" class=\"dataframe\">\n",
       "  <thead>\n",
       "    <tr style=\"text-align: right;\">\n",
       "      <th></th>\n",
       "      <th>Sex</th>\n",
       "      <th>Pclass</th>\n",
       "      <th>Age</th>\n",
       "    </tr>\n",
       "  </thead>\n",
       "  <tbody>\n",
       "    <tr>\n",
       "      <th>0</th>\n",
       "      <td>female</td>\n",
       "      <td>1</td>\n",
       "      <td>36.0</td>\n",
       "    </tr>\n",
       "    <tr>\n",
       "      <th>1</th>\n",
       "      <td>female</td>\n",
       "      <td>2</td>\n",
       "      <td>28.0</td>\n",
       "    </tr>\n",
       "    <tr>\n",
       "      <th>2</th>\n",
       "      <td>female</td>\n",
       "      <td>3</td>\n",
       "      <td>22.0</td>\n",
       "    </tr>\n",
       "    <tr>\n",
       "      <th>3</th>\n",
       "      <td>male</td>\n",
       "      <td>1</td>\n",
       "      <td>42.0</td>\n",
       "    </tr>\n",
       "    <tr>\n",
       "      <th>4</th>\n",
       "      <td>male</td>\n",
       "      <td>2</td>\n",
       "      <td>29.5</td>\n",
       "    </tr>\n",
       "    <tr>\n",
       "      <th>5</th>\n",
       "      <td>male</td>\n",
       "      <td>3</td>\n",
       "      <td>25.0</td>\n",
       "    </tr>\n",
       "  </tbody>\n",
       "</table>\n",
       "</div>"
      ],
      "text/plain": [
       "      Sex  Pclass   Age\n",
       "0  female       1  36.0\n",
       "1  female       2  28.0\n",
       "2  female       3  22.0\n",
       "3    male       1  42.0\n",
       "4    male       2  29.5\n",
       "5    male       3  25.0"
      ]
     },
     "execution_count": 7,
     "metadata": {},
     "output_type": "execute_result"
    }
   ],
   "source": [
    "# Fill Age's null val by the median grouped by \"Sex\" and \"Pclass\" features\n",
    "df_all['Age'] = df_all.groupby(['Sex', 'Pclass'])['Age'].apply(lambda x: x.fillna(x.median()))\n",
    "df_all.groupby([\"Sex\", \"Pclass\"]).median()[\"Age\"].reset_index()"
   ]
  },
  {
   "cell_type": "markdown",
   "metadata": {},
   "source": [
    "<a name='2.1.2'></a>\n",
    "### 2.1.2 Embarked\n",
    "- There are only 2 missing Embarked's rows in dataset.\n",
    "\n",
    "How to fill appropriate value to missing pieces?\n",
    "- When I google \"Stone, Mrs. George Nelson (Martha Evelyn)\", it results that Mrs.Evelyn was embarked from Southampton (S) port & 2 missing rows have the same ticket number --> The missing piece should be \"S\""
   ]
  },
  {
   "cell_type": "code",
   "execution_count": 8,
   "metadata": {},
   "outputs": [
    {
     "data": {
      "text/html": [
       "<div>\n",
       "<style scoped>\n",
       "    .dataframe tbody tr th:only-of-type {\n",
       "        vertical-align: middle;\n",
       "    }\n",
       "\n",
       "    .dataframe tbody tr th {\n",
       "        vertical-align: top;\n",
       "    }\n",
       "\n",
       "    .dataframe thead th {\n",
       "        text-align: right;\n",
       "    }\n",
       "</style>\n",
       "<table border=\"1\" class=\"dataframe\">\n",
       "  <thead>\n",
       "    <tr style=\"text-align: right;\">\n",
       "      <th></th>\n",
       "      <th>Age</th>\n",
       "      <th>Cabin</th>\n",
       "      <th>Embarked</th>\n",
       "      <th>Fare</th>\n",
       "      <th>Name</th>\n",
       "      <th>Parch</th>\n",
       "      <th>PassengerId</th>\n",
       "      <th>Pclass</th>\n",
       "      <th>Sex</th>\n",
       "      <th>SibSp</th>\n",
       "      <th>Survived</th>\n",
       "      <th>Ticket</th>\n",
       "    </tr>\n",
       "  </thead>\n",
       "  <tbody>\n",
       "    <tr>\n",
       "      <th>61</th>\n",
       "      <td>38.0</td>\n",
       "      <td>B28</td>\n",
       "      <td>NaN</td>\n",
       "      <td>80.0</td>\n",
       "      <td>Icard, Miss. Amelie</td>\n",
       "      <td>0</td>\n",
       "      <td>62</td>\n",
       "      <td>1</td>\n",
       "      <td>female</td>\n",
       "      <td>0</td>\n",
       "      <td>1.0</td>\n",
       "      <td>113572</td>\n",
       "    </tr>\n",
       "    <tr>\n",
       "      <th>829</th>\n",
       "      <td>62.0</td>\n",
       "      <td>B28</td>\n",
       "      <td>NaN</td>\n",
       "      <td>80.0</td>\n",
       "      <td>Stone, Mrs. George Nelson (Martha Evelyn)</td>\n",
       "      <td>0</td>\n",
       "      <td>830</td>\n",
       "      <td>1</td>\n",
       "      <td>female</td>\n",
       "      <td>0</td>\n",
       "      <td>1.0</td>\n",
       "      <td>113572</td>\n",
       "    </tr>\n",
       "  </tbody>\n",
       "</table>\n",
       "</div>"
      ],
      "text/plain": [
       "      Age Cabin Embarked  Fare                                       Name  \\\n",
       "61   38.0   B28      NaN  80.0                        Icard, Miss. Amelie   \n",
       "829  62.0   B28      NaN  80.0  Stone, Mrs. George Nelson (Martha Evelyn)   \n",
       "\n",
       "     Parch  PassengerId  Pclass     Sex  SibSp  Survived  Ticket  \n",
       "61       0           62       1  female      0       1.0  113572  \n",
       "829      0          830       1  female      0       1.0  113572  "
      ]
     },
     "execution_count": 8,
     "metadata": {},
     "output_type": "execute_result"
    }
   ],
   "source": [
    "# Missing value in \"Embarked\" column\n",
    "df_all.loc[df_all['Embarked'].isnull()]"
   ]
  },
  {
   "cell_type": "code",
   "execution_count": 9,
   "metadata": {},
   "outputs": [],
   "source": [
    "# Filling Embarked's missing value with S\n",
    "df_all['Embarked'] = df_all['Embarked'].fillna(\"S\")"
   ]
  },
  {
   "cell_type": "markdown",
   "metadata": {},
   "source": [
    "<a name='2.1.3'></a>\n",
    "### 2.1.3 Fare\n",
    "- Fare is the cost of ticket. There is only 1 missing value in the dataset\n",
    "\n",
    "--> Just use median of Fare to fill in the missing piece"
   ]
  },
  {
   "cell_type": "code",
   "execution_count": 10,
   "metadata": {},
   "outputs": [
    {
     "data": {
      "text/html": [
       "<div>\n",
       "<style scoped>\n",
       "    .dataframe tbody tr th:only-of-type {\n",
       "        vertical-align: middle;\n",
       "    }\n",
       "\n",
       "    .dataframe tbody tr th {\n",
       "        vertical-align: top;\n",
       "    }\n",
       "\n",
       "    .dataframe thead th {\n",
       "        text-align: right;\n",
       "    }\n",
       "</style>\n",
       "<table border=\"1\" class=\"dataframe\">\n",
       "  <thead>\n",
       "    <tr style=\"text-align: right;\">\n",
       "      <th></th>\n",
       "      <th>Age</th>\n",
       "      <th>Cabin</th>\n",
       "      <th>Embarked</th>\n",
       "      <th>Fare</th>\n",
       "      <th>Name</th>\n",
       "      <th>Parch</th>\n",
       "      <th>PassengerId</th>\n",
       "      <th>Pclass</th>\n",
       "      <th>Sex</th>\n",
       "      <th>SibSp</th>\n",
       "      <th>Survived</th>\n",
       "      <th>Ticket</th>\n",
       "    </tr>\n",
       "  </thead>\n",
       "  <tbody>\n",
       "    <tr>\n",
       "      <th>1043</th>\n",
       "      <td>60.5</td>\n",
       "      <td>NaN</td>\n",
       "      <td>S</td>\n",
       "      <td>NaN</td>\n",
       "      <td>Storey, Mr. Thomas</td>\n",
       "      <td>0</td>\n",
       "      <td>1044</td>\n",
       "      <td>3</td>\n",
       "      <td>male</td>\n",
       "      <td>0</td>\n",
       "      <td>NaN</td>\n",
       "      <td>3701</td>\n",
       "    </tr>\n",
       "  </tbody>\n",
       "</table>\n",
       "</div>"
      ],
      "text/plain": [
       "       Age Cabin Embarked  Fare                Name  Parch  PassengerId  \\\n",
       "1043  60.5   NaN        S   NaN  Storey, Mr. Thomas      0         1044   \n",
       "\n",
       "      Pclass   Sex  SibSp  Survived Ticket  \n",
       "1043       3  male      0       NaN   3701  "
      ]
     },
     "execution_count": 10,
     "metadata": {},
     "output_type": "execute_result"
    }
   ],
   "source": [
    "# Missing value in \"Fare\" column\n",
    "df_all.loc[df_all['Fare'].isnull()]"
   ]
  },
  {
   "cell_type": "code",
   "execution_count": 11,
   "metadata": {},
   "outputs": [],
   "source": [
    "# Fill fare's nan value with median group by \"Parch\", \"SibSp\" and \"Pclass\"\n",
    "# Nan's fare attribute has \"Parch\"=0; \"Pclass\"=3 and \"SibSp\"=0\n",
    "med_fare = df_all.Fare.median()\n",
    "df_all['Fare'] = df_all['Fare'].fillna(med_fare)"
   ]
  },
  {
   "cell_type": "markdown",
   "metadata": {},
   "source": [
    "<a name='2.1.4'></a>\n",
    "### 2.1.4 Cabin\n",
    "- The large portion (nearly 80%) of cabin feature is missing and the feature itself can not be ignored completely because cabin is essential in deciding the survival rate of customers.\n",
    "\n",
    "--> Therefore, It'd be appropriate to separate all the null cabin values as a cabin \"M\"\n",
    "\n",
    "- The Cabin value looks like C123, it turns out the 1st letter represents the deck in which cabin is located.\n",
    "\n",
    "--> We need to separate the column \"Cabin\" into the \"Deck\" column only and the remaining number are redundant (should be removed)"
   ]
  },
  {
   "cell_type": "code",
   "execution_count": 12,
   "metadata": {},
   "outputs": [
    {
     "name": "stdout",
     "output_type": "stream",
     "text": [
      "Proportion of missing values in \"Cabin\" feature is 77.46%\n"
     ]
    }
   ],
   "source": [
    "nan_cabin_percent = round(df_all['Cabin'].isnull().mean()*100, 2)\n",
    "print(f\"Proportion of missing values in \\\"Cabin\\\" feature is {nan_cabin_percent}%\")"
   ]
  },
  {
   "cell_type": "code",
   "execution_count": 13,
   "metadata": {},
   "outputs": [
    {
     "data": {
      "text/plain": [
       "X    1014\n",
       "C      94\n",
       "B      65\n",
       "D      46\n",
       "E      41\n",
       "A      22\n",
       "F      21\n",
       "G       5\n",
       "T       1\n",
       "Name: Deck, dtype: int64"
      ]
     },
     "execution_count": 13,
     "metadata": {},
     "output_type": "execute_result"
    }
   ],
   "source": [
    "# Create col \"Deck\" contained only 1st letter of column \"Cabin\" & assign \"M\" to null\n",
    "df_all['Deck'] = df_all['Cabin'].apply(lambda s: s[0] if pd.notnull(s) else 'X')\n",
    "df_all['Deck'].value_counts()"
   ]
  },
  {
   "cell_type": "markdown",
   "metadata": {},
   "source": [
    "<a name='2.2'></a>\n",
    "## 2.2 Visualization"
   ]
  },
  {
   "cell_type": "markdown",
   "metadata": {},
   "source": [
    "<a name='2.2.1'></a>\n",
    "### 2.2.1 Visualize percentage of passengers based on \"Deck\" and \"Pclass\" features"
   ]
  },
  {
   "cell_type": "code",
   "execution_count": 14,
   "metadata": {},
   "outputs": [
    {
     "data": {
      "image/png": "[encoded data removed]",
      "text/plain": [
       "<Figure size 1440x720 with 1 Axes>"
      ]
     },
     "metadata": {
      "needs_background": "light"
     },
     "output_type": "display_data"
    }
   ],
   "source": [
    "# Count # of passengers based on pair (\"Deck\", \"Pclass\")\n",
    "df_all_decks = df_all.groupby(['Deck', 'Pclass']).count().drop(columns=['Survived', 'Sex', 'Age', 'SibSp', 'Parch', \n",
    "                                                                        'Fare', 'Embarked', 'Cabin', 'PassengerId', 'Ticket']).rename(columns={'Name': 'Count'}).transpose()\n",
    "\n",
    "# TODO: Return # of passengers & percentage in each deck groupped by Pclass\n",
    "def get_pclass_dist(df):\n",
    "    # Creating a dictionary for every passenger class count in every deck\n",
    "    deck_counts = {'A': {}, 'B': {}, 'C': {}, 'D': {}, 'E': {}, 'F': {}, 'G': {}, 'X': {}, 'T': {}}\n",
    "    decks = df.columns.levels[0]    \n",
    "    \n",
    "    for deck in decks:\n",
    "        for pclass in range(1, 4):\n",
    "            try:\n",
    "                count = df[deck][pclass][0]\n",
    "                deck_counts[deck][pclass] = count \n",
    "            except KeyError:\n",
    "                deck_counts[deck][pclass] = 0\n",
    "                \n",
    "    df_decks = pd.DataFrame(deck_counts)    \n",
    "    deck_percentages = {}\n",
    "\n",
    "    # Creating a dictionary for every passenger class percentage in every deck\n",
    "    for col in df_decks.columns:\n",
    "        deck_percentages[col] = [(count / df_decks[col].sum()) * 100 for count in df_decks[col]]\n",
    "        \n",
    "    return deck_counts, deck_percentages\n",
    "    \n",
    "\n",
    "# TODO Visualize Percentage of each class based on each deck\n",
    "def display_pclass_dist(percentages):\n",
    "    \n",
    "    # Visualize preparation\n",
    "    df_percentages = pd.DataFrame(percentages).transpose()\n",
    "    deck_names = ('A', 'B', 'C', 'D', 'E', 'F', 'G', 'X', 'T')\n",
    "    bar_count = np.arange(len(deck_names))  \n",
    "    bar_width = 0.85\n",
    "    \n",
    "    pclass1 = df_percentages[0]\n",
    "    pclass2 = df_percentages[1]\n",
    "    pclass3 = df_percentages[2]\n",
    "    \n",
    "    # Apply data to figure\n",
    "    plt.figure(figsize=(20, 10))\n",
    "    plt.bar(bar_count, pclass1, color='#376AE2', width=bar_width, label='Passenger Class 1')\n",
    "    plt.bar(bar_count, pclass2, bottom=pclass1, color='#76E857', width=bar_width, label='Passenger Class 2')\n",
    "    plt.bar(bar_count, pclass3, bottom=pclass1 + pclass2, color='#e5b5ff', width=bar_width, label='Passenger Class 3')\n",
    "\n",
    "    plt.xlabel('Deck', size=15, labelpad=20)\n",
    "    plt.ylabel('Passenger Class Percentage', size=15, labelpad=20)\n",
    "    plt.xticks(bar_count, deck_names)    \n",
    "    plt.tick_params(axis='x', labelsize=15)\n",
    "    plt.tick_params(axis='y', labelsize=15)\n",
    "    \n",
    "    plt.legend(loc='upper left', bbox_to_anchor=(1, 1), prop={'size': 15})\n",
    "    plt.title('Passenger Class Distribution in Decks', size=18, y=1.05)   \n",
    "    \n",
    "    plt.show()    \n",
    "\n",
    "all_deck_count, all_deck_per = get_pclass_dist(df_all_decks)\n",
    "display_pclass_dist(all_deck_per)"
   ]
  },
  {
   "cell_type": "markdown",
   "metadata": {},
   "source": [
    "Remarks\n",
    "- 100% of decks A, B and C are 1st class\n",
    "- Deck D, 87% is 1st class & 13% is 2nd class\n",
    "- Deck E, 83% is 1st class, 10% is 2nd class & 7% is 3rd class\n",
    "- Deck F, 62% is 2nd class & 38% is 3rd class\n",
    "- Deck G, 100% is 3rd class\n",
    "- Deck X, 6.6% is 1st class, 25% is 2nd class & 68.4% is 3rd class\n",
    "- Deck G, 100% is 1st class\n",
    "- Deck X represents all passengers containing NULL value in \"Cabin\" column -> Use \"X\" as the value of Cabin also\n",
    "- There is only 1 passenger with deck \"T\" --> Transform deck \"T\" to \"A\" because this passengers is in upper class also"
   ]
  },
  {
   "cell_type": "code",
   "execution_count": 15,
   "metadata": {},
   "outputs": [],
   "source": [
    "# Transform passenger with deck T to A\n",
    "idx = df_all.loc[df_all['Deck'] == \"T\"].index\n",
    "df_all.loc[idx, 'Deck'] = 'A'"
   ]
  },
  {
   "cell_type": "markdown",
   "metadata": {},
   "source": [
    "<a name='2.2.2'></a>\n",
    "### 2.2.2 Visualize survival percentage in each \"Deck\" feature\n",
    "- The highest percentage of survival rate belongs to decks B, C, D and E. Those decks are almost occuppied by the 1st class passengers. While the rate in decks X is the lowest and all passengers staying in this deck only from 2nd and 3rd class.\n",
    "\n",
    "--> As a result, Cabin containing the 1st class passengers have a higher rate of survival than the other class. And it makes sense that we don't have cabin's data, where majority of 2nd and 3rd class passengers stayed, just because they were not survived. It's compelling to label them as a unique deck X."
   ]
  },
  {
   "cell_type": "code",
   "execution_count": 16,
   "metadata": {},
   "outputs": [
    {
     "data": {
      "image/png": "[encoded data removed]",
      "text/plain": [
       "<Figure size 1440x720 with 1 Axes>"
      ]
     },
     "metadata": {
      "needs_background": "light"
     },
     "output_type": "display_data"
    }
   ],
   "source": [
    "# Count # of passenger grouped by ('Deck' and 'Survived')\n",
    "df_all_survived = df_all.groupby([\"Deck\", \"Survived\"]).count()['Name']\n",
    "\n",
    "# TODO: Return # of passengers & percentage in each deck based on \"Survived\" term\n",
    "def get_survide_dist(df):\n",
    "    # deck_counts: Count number of survive passengers in each decks\n",
    "    deck_counts = {'A': {}, 'B': {}, 'C': {}, 'D': {}, 'E': {}, 'F': {}, 'G': {}, 'X': {}}\n",
    "    decks = list(deck_counts.keys())  \n",
    "    \n",
    "    for deck in decks:\n",
    "        for survived in range(0, 2):\n",
    "            try:\n",
    "                count = df[deck][survived]\n",
    "                deck_counts[deck][survived] = count \n",
    "            except KeyError:\n",
    "                deck_counts[deck][survived] = 0\n",
    "                \n",
    "    df_decks = pd.DataFrame(deck_counts)    \n",
    "    deck_percentages = {}\n",
    "\n",
    "    # deck_percentages: Survival percentage in each deck\n",
    "    for col in df_decks.columns:\n",
    "        deck_percentages[col] = [(count / df_decks[col].sum()) * 100 for count in df_decks[col]]\n",
    "        \n",
    "    return deck_counts, deck_percentages\n",
    "\n",
    "# TODO Visualize Percentage of survived terms based on each deck\n",
    "def display_survived_dist(percentages):\n",
    "    \n",
    "    # Visualize preparation\n",
    "    df_percentages = pd.DataFrame(percentages).transpose()\n",
    "    deck_names = ('A', 'B', 'C', 'D', 'E', 'F', 'G', 'X')\n",
    "    bar_count = np.arange(len(deck_names))  \n",
    "    bar_width = 0.85\n",
    "    \n",
    "    # Bar's content\n",
    "    not_survived = df_percentages[0]\n",
    "    survived = df_percentages[1]\n",
    "    \n",
    "    # Apply data to figure\n",
    "    plt.figure(figsize=(20, 10))\n",
    "    plt.bar(bar_count, not_survived, bottom=survived, color='#ffc8b5', width=bar_width, label='Not survived')\n",
    "    plt.bar(bar_count, survived, color='#85f57a', width=bar_width, label='Survived')\n",
    "\n",
    "    plt.xlabel('Deck', size=15, labelpad=20)\n",
    "    plt.ylabel('Passenger survived terms Percentage', size=15, labelpad=20)\n",
    "    plt.xticks(bar_count, deck_names)    \n",
    "    plt.tick_params(axis='x', labelsize=15)\n",
    "    plt.tick_params(axis='y', labelsize=15)\n",
    "    \n",
    "    plt.legend(loc='upper left', bbox_to_anchor=(1, 1), prop={'size': 15})\n",
    "    plt.title('Passenger survived term Distribution in Decks', size=18, y=1.05)   \n",
    "    \n",
    "    plt.show()    \n",
    "\n",
    "all_deck_count, all_deck_per = get_survide_dist(df_all_survived)\n",
    "display_survived_dist(all_deck_per)"
   ]
  },
  {
   "cell_type": "markdown",
   "metadata": {},
   "source": [
    "'Decks' is now a high-cardinality feature -> We'll group decks value based on their similarity\n",
    "- A, B and C decks are labeled as ABC because all of them have only 1st class passengers\n",
    "- D and E decks are labeled as DE because both of them have similar passenger class distribution and same survival rate\n",
    "- F and G decks are labeled as FG because of the same reason above\n",
    "- M deck doesn't need to be grouped with other decks because it is very different from others and has the lowest survival rate.\n",
    "\n",
    "(NFM) \"High-cardinality\" feature is the feature which is unique and uncommon (too many unique values)"
   ]
  },
  {
   "cell_type": "code",
   "execution_count": 17,
   "metadata": {},
   "outputs": [
    {
     "data": {
      "text/plain": [
       "X      1014\n",
       "ABC     182\n",
       "DE       87\n",
       "FG       26\n",
       "Name: Deck, dtype: int64"
      ]
     },
     "execution_count": 17,
     "metadata": {},
     "output_type": "execute_result"
    }
   ],
   "source": [
    "df_all['Deck'] = df_all['Deck'].replace(['A', 'B', 'C'], 'ABC')\n",
    "df_all['Deck'] = df_all['Deck'].replace(['D', 'E'], 'DE')\n",
    "df_all['Deck'] = df_all['Deck'].replace(['F', 'G'], 'FG')\n",
    "\n",
    "df_all['Deck'].value_counts()"
   ]
  },
  {
   "cell_type": "markdown",
   "metadata": {},
   "source": [
    "- Feature \"Cabin\" will be deleted and replaced by \"Deck\" feature"
   ]
  },
  {
   "cell_type": "code",
   "execution_count": 18,
   "metadata": {},
   "outputs": [
    {
     "name": "stdout",
     "output_type": "stream",
     "text": [
      "Missing values in Training dataset\n",
      "Age            0\n",
      "Embarked       0\n",
      "Fare           0\n",
      "Name           0\n",
      "Parch          0\n",
      "PassengerId    0\n",
      "Pclass         0\n",
      "Sex            0\n",
      "SibSp          0\n",
      "Survived       0\n",
      "Ticket         0\n",
      "Deck           0\n",
      "dtype: int64 \n",
      "\n",
      "\n",
      " Missing values in Testing dataset\n",
      "Age            0\n",
      "Embarked       0\n",
      "Fare           0\n",
      "Name           0\n",
      "Parch          0\n",
      "PassengerId    0\n",
      "Pclass         0\n",
      "Sex            0\n",
      "SibSp          0\n",
      "Ticket         0\n",
      "Deck           0\n",
      "dtype: int64 \n",
      "\n"
     ]
    }
   ],
   "source": [
    "# Drop feature Cabin\n",
    "df_all.drop('Cabin', axis=1, inplace=True)\n",
    "\n",
    "# Separate training and testing data\n",
    "df_train, df_test = divide_df(df_all)\n",
    "\n",
    "print('Missing values in Training dataset')\n",
    "print(df_train.isnull().sum(), \"\\n\")\n",
    "print('\\n Missing values in Testing dataset')\n",
    "print(df_test.isnull().sum(), \"\\n\")"
   ]
  },
  {
   "cell_type": "markdown",
   "metadata": {},
   "source": [
    "<a name='2.3'></a>\n",
    "## 2.3 Target column distribution"
   ]
  },
  {
   "cell_type": "code",
   "execution_count": 19,
   "metadata": {},
   "outputs": [
    {
     "name": "stdout",
     "output_type": "stream",
     "text": [
      "549 of 891 passengers survived and it is the 38.38% of the training set.\n",
      "342 of 891 passengers survived and it is the 61.62% of the training set.\n"
     ]
    }
   ],
   "source": [
    "# Compute survival percentage in training dataset\n",
    "not_survived = df_train['Survived'].loc[df_train['Survived']==0].count()\n",
    "survived = df_train['Survived'].loc[df_train['Survived']==1].count()\n",
    "print(f'{not_survived} of {not_survived+survived} passengers survived and it is the 38.38% of the training set.')\n",
    "print(f'{survived} of {not_survived+survived} passengers survived and it is the 61.62% of the training set.')"
   ]
  },
  {
   "cell_type": "code",
   "execution_count": 20,
   "metadata": {},
   "outputs": [
    {
     "data": {
      "image/png": "[encoded data removed]",
      "text/plain": [
       "<Figure size 720x576 with 1 Axes>"
      ]
     },
     "metadata": {
      "needs_background": "light"
     },
     "output_type": "display_data"
    }
   ],
   "source": [
    "# Visualize number of survival and non_survivals in training dataset\n",
    "survived_rate = [survived, not_survived]\n",
    "bar_count = ['Survived', 'Not survived']\n",
    "\n",
    "plt.figure(figsize=(10, 8))\n",
    "# plt.bar(bar_count, survived_term, label=['Survived', 'Not survived'], color='#f9bc86', edgecolor='white')\n",
    "sns.countplot(df_train['Survived'])\n",
    "\n",
    "plt.ylabel('Survival rate', size=15, labelpad=20)\n",
    "plt.xticks((0, 1), ['Not Survived ({0:.2f}%)'.format(not_survived/(not_survived+survived)*100),\n",
    "                    'Survived ({0:.2f}%)'.format(survived/(not_survived+survived)*100)])\n",
    "plt.tick_params(axis='x', labelsize=13)\n",
    "plt.tick_params(axis='y', labelsize=13)\n",
    "\n",
    "plt.title('Training Set Survival Distribution', size=13, y=1.05)\n",
    "plt.show()"
   ]
  },
  {
   "cell_type": "markdown",
   "metadata": {},
   "source": [
    "- 38.38% survival passengers in training set\n",
    "- 61.62% not survival passengers in training set"
   ]
  },
  {
   "cell_type": "markdown",
   "metadata": {},
   "source": [
    "<a name='2.4'></a>\n",
    "## 2.4 Correlations\n",
    "- Correlation is a statistical term which in simple explanation refers to how close two variables having linear relationship with each other\n",
    "\n",
    "For example, 2 variables are linearly dependent (x and y are dependent on each other as x=2y). While 2 variable are independent (# of parents & Pclass are not close to each other)\n",
    "\n",
    "*(Why negative values exist in correlation table?)*\n",
    "- It means that there is an inverse relationship between 2 variables tested\n",
    "- For example, the snowfall-driver is negative correlation b.c the increase the amount of snowfall, the few the number of driver on the street"
   ]
  },
  {
   "cell_type": "code",
   "execution_count": 21,
   "metadata": {},
   "outputs": [],
   "source": [
    "# Construct correlation table for Training data\n",
    "df_train_corr = df_train.drop(['PassengerId'], axis=1).corr().abs().unstack().sort_values(kind=\"quicksort\", ascending=False).reset_index()\n",
    "df_train_corr.rename(columns={\"level_0\": \"Feature 1\", \"level_1\": \"Feature 2\", 0: 'Correlation Coefficient'}, inplace=True)\n",
    "# Remove odd row's index b.c they're replicated by the even row's index\n",
    "df_train_corr.drop(df_train_corr.iloc[1::2].index, inplace=True)\n",
    "# Drop row having correlation value 1.0\n",
    "df_train_corr_nd = df_train_corr.drop(df_train_corr[df_train_corr['Correlation Coefficient'] == 1.0].index)\n",
    "\n",
    "# Construct correlation table for Testing data (Steps same as training data)\n",
    "df_test_corr = df_test.corr().abs().unstack().sort_values(kind=\"quicksort\", ascending=False).reset_index()\n",
    "df_test_corr.rename(columns={\"level_0\": \"Feature 1\", \"level_1\": \"Feature 2\", 0: 'Correlation Coefficient'}, inplace=True)\n",
    "df_test_corr.drop(df_test_corr.iloc[1::2].index, inplace=True)\n",
    "df_test_corr_nd = df_test_corr.drop(df_test_corr[df_test_corr['Correlation Coefficient'] == 1.0].index)"
   ]
  },
  {
   "cell_type": "code",
   "execution_count": 22,
   "metadata": {},
   "outputs": [
    {
     "data": {
      "text/html": [
       "<div>\n",
       "<style scoped>\n",
       "    .dataframe tbody tr th:only-of-type {\n",
       "        vertical-align: middle;\n",
       "    }\n",
       "\n",
       "    .dataframe tbody tr th {\n",
       "        vertical-align: top;\n",
       "    }\n",
       "\n",
       "    .dataframe thead th {\n",
       "        text-align: right;\n",
       "    }\n",
       "</style>\n",
       "<table border=\"1\" class=\"dataframe\">\n",
       "  <thead>\n",
       "    <tr style=\"text-align: right;\">\n",
       "      <th></th>\n",
       "      <th>Feature 1</th>\n",
       "      <th>Feature 2</th>\n",
       "      <th>Correlation Coefficient</th>\n",
       "    </tr>\n",
       "  </thead>\n",
       "  <tbody>\n",
       "    <tr>\n",
       "      <th>6</th>\n",
       "      <td>Fare</td>\n",
       "      <td>Pclass</td>\n",
       "      <td>0.577313</td>\n",
       "    </tr>\n",
       "    <tr>\n",
       "      <th>8</th>\n",
       "      <td>Age</td>\n",
       "      <td>Pclass</td>\n",
       "      <td>0.526789</td>\n",
       "    </tr>\n",
       "    <tr>\n",
       "      <th>10</th>\n",
       "      <td>Age</td>\n",
       "      <td>Fare</td>\n",
       "      <td>0.346069</td>\n",
       "    </tr>\n",
       "    <tr>\n",
       "      <th>12</th>\n",
       "      <td>SibSp</td>\n",
       "      <td>Parch</td>\n",
       "      <td>0.306895</td>\n",
       "    </tr>\n",
       "    <tr>\n",
       "      <th>14</th>\n",
       "      <td>Fare</td>\n",
       "      <td>Parch</td>\n",
       "      <td>0.230325</td>\n",
       "    </tr>\n",
       "    <tr>\n",
       "      <th>16</th>\n",
       "      <td>SibSp</td>\n",
       "      <td>Fare</td>\n",
       "      <td>0.171912</td>\n",
       "    </tr>\n",
       "  </tbody>\n",
       "</table>\n",
       "</div>"
      ],
      "text/plain": [
       "   Feature 1 Feature 2  Correlation Coefficient\n",
       "6       Fare    Pclass                 0.577313\n",
       "8        Age    Pclass                 0.526789\n",
       "10       Age      Fare                 0.346069\n",
       "12     SibSp     Parch                 0.306895\n",
       "14      Fare     Parch                 0.230325\n",
       "16     SibSp      Fare                 0.171912"
      ]
     },
     "execution_count": 22,
     "metadata": {},
     "output_type": "execute_result"
    }
   ],
   "source": [
    "temp = df_test_corr_nd['Correlation Coefficient'] > 0.1\n",
    "df_test_corr_nd.loc[temp]"
   ]
  },
  {
   "cell_type": "code",
   "execution_count": 23,
   "metadata": {},
   "outputs": [
    {
     "data": {
      "text/plain": [
       "Text(0.5, 1.0, 'Testing correlation set')"
      ]
     },
     "execution_count": 23,
     "metadata": {},
     "output_type": "execute_result"
    },
    {
     "data": {
      "image/png": "[encoded data removed]",
      "text/plain": [
       "<Figure size 720x1440 with 4 Axes>"
      ]
     },
     "metadata": {
      "needs_background": "light"
     },
     "output_type": "display_data"
    }
   ],
   "source": [
    "# Visualize correlation table by heatmap\n",
    "fig, axs = plt.subplots(nrows=2, figsize=(10, 20))\n",
    "\n",
    "sns.heatmap(df_train.drop(['PassengerId'], axis=1).corr(), ax=axs[0], annot=True, square=True,\n",
    "            cmap='mako', annot_kws={'size': 14})\n",
    "sns.heatmap(df_test.drop(['PassengerId'], axis=1).corr(), ax=axs[1], annot=True, square=True,\n",
    "            cmap='rocket', annot_kws={'size': 14})\n",
    "\n",
    "for i in range(2):\n",
    "    axs[i].tick_params(axis='x', labelsize=14)\n",
    "    axs[i].tick_params(axis='y', labelsize=14)\n",
    "    \n",
    "axs[0].set_title('Training correlation set', fontsize=17)\n",
    "axs[1].set_title('Testing correlation set', fontsize=17)"
   ]
  },
  {
   "cell_type": "markdown",
   "metadata": {},
   "source": [
    "### Take away from correlation plot\n",
    "- Following the above plot, there is only few highly correlated features but this signal is a good point. It means that the features don't contain much the redundant or unnecessary values and we're happy that each feature carries with its own unique information. "
   ]
  },
  {
   "cell_type": "markdown",
   "metadata": {},
   "source": [
    "<a name='2.5'></a>\n",
    "## 2.5 Categorical features\n",
    "- In statistics, a **categorical variable** (also called **qualitative variable**) is a variable that can take on one of a *limited, and usually fixed number of possible values* (Reference link: [here](https://en.wikipedia.org/wiki/Categorical_variable))\n",
    "- In this situation, List of categorical features: Embarked, Parch, Pclass, Sex, SibSp & Deck"
   ]
  },
  {
   "cell_type": "code",
   "execution_count": 24,
   "metadata": {},
   "outputs": [
    {
     "data": {
      "image/png": "[encoded data removed]",
      "text/plain": [
       "<Figure size 1440x1440 with 6 Axes>"
      ]
     },
     "metadata": {
      "needs_background": "light"
     },
     "output_type": "display_data"
    }
   ],
   "source": [
    "fig, axes = plt.subplots(nrows=2, ncols=3, figsize=(20, 20))\n",
    "cols = {1:'Embarked', 2:'Parch', 3:'Pclass', 4:'Sex', 5:'SibSp', 6:'Deck'}\n",
    "plt.subplots_adjust(right=1.25, top=1)\n",
    "\n",
    "# i: 1->6 show position of the plot\n",
    "for i, feature in cols.items():\n",
    "    plt.subplot(2, 3, i)\n",
    "    # Countplot for 2 features\n",
    "    sns.countplot(x=feature, hue='Survived', data=df_train)\n",
    "    \n",
    "    plt.xlabel('{}'.format(feature), size=20, labelpad=15)\n",
    "    plt.ylabel('Passenger Count', size=20, labelpad=15)    \n",
    "    plt.tick_params(axis='x', labelsize=20)\n",
    "    plt.tick_params(axis='y', labelsize=20)\n",
    "    \n",
    "    plt.legend(['Not Survived', 'Survived'], loc='upper center', prop={'size': 16})\n",
    "    plt.title('Count of Survival in {} Feature'.format(feature), size=20, y=1.05)\n",
    "plt.show()"
   ]
  },
  {
   "cell_type": "markdown",
   "metadata": {},
   "source": [
    "Every categorical feature has at least 1 class having high mortality rate. Those classes play an important role in figuring out the passenger is a survivor or victim. \n",
    "- The passenger boarded from Southampton (S) has a lower survival rate, and they accounted for nearly half the total of passengers. \n",
    "- While the number of survived passengers boarded from Cherbourg (C) equals to half or higher the total survivors\n",
    "- Moreover, decks occupied by almost upper class has higher survival rate than the other & The 1st class also has the highest rate in terms of survival feature\n",
    "- Female has largely high survival rate than the other gender. The number of survived female is nearly one half bigger than its non-survival rate.\n",
    "\n",
    "--> Feature 1st class is highly related to the survival term"
   ]
  },
  {
   "cell_type": "markdown",
   "metadata": {},
   "source": [
    "## Remark\n",
    "- This relationship can be used to create new features with \"feature transformation\" and \"feature interaction\". \n",
    "- Target encoding could be very useful as well because of the high correlations with Survived feature.\n",
    "- Categorical features have very distinct distributions with different survival rates. Those features can be one-hot encoded. Some of those features may be combined with each other to make new features."
   ]
  },
  {
   "cell_type": "code",
   "execution_count": 25,
   "metadata": {},
   "outputs": [
    {
     "data": {
      "text/html": [
       "<div>\n",
       "<style scoped>\n",
       "    .dataframe tbody tr th:only-of-type {\n",
       "        vertical-align: middle;\n",
       "    }\n",
       "\n",
       "    .dataframe tbody tr th {\n",
       "        vertical-align: top;\n",
       "    }\n",
       "\n",
       "    .dataframe thead th {\n",
       "        text-align: right;\n",
       "    }\n",
       "</style>\n",
       "<table border=\"1\" class=\"dataframe\">\n",
       "  <thead>\n",
       "    <tr style=\"text-align: right;\">\n",
       "      <th></th>\n",
       "      <th>Age</th>\n",
       "      <th>Deck</th>\n",
       "      <th>Embarked</th>\n",
       "      <th>Fare</th>\n",
       "      <th>Name</th>\n",
       "      <th>Parch</th>\n",
       "      <th>PassengerId</th>\n",
       "      <th>Pclass</th>\n",
       "      <th>Sex</th>\n",
       "      <th>SibSp</th>\n",
       "      <th>Survived</th>\n",
       "      <th>Ticket</th>\n",
       "    </tr>\n",
       "  </thead>\n",
       "  <tbody>\n",
       "    <tr>\n",
       "      <th>0</th>\n",
       "      <td>22.0</td>\n",
       "      <td>X</td>\n",
       "      <td>S</td>\n",
       "      <td>7.2500</td>\n",
       "      <td>Braund, Mr. Owen Harris</td>\n",
       "      <td>0</td>\n",
       "      <td>1</td>\n",
       "      <td>3</td>\n",
       "      <td>male</td>\n",
       "      <td>1</td>\n",
       "      <td>0.0</td>\n",
       "      <td>A/5 21171</td>\n",
       "    </tr>\n",
       "    <tr>\n",
       "      <th>1</th>\n",
       "      <td>38.0</td>\n",
       "      <td>ABC</td>\n",
       "      <td>C</td>\n",
       "      <td>71.2833</td>\n",
       "      <td>Cumings, Mrs. John Bradley (Florence Briggs Th...</td>\n",
       "      <td>0</td>\n",
       "      <td>2</td>\n",
       "      <td>1</td>\n",
       "      <td>female</td>\n",
       "      <td>1</td>\n",
       "      <td>1.0</td>\n",
       "      <td>PC 17599</td>\n",
       "    </tr>\n",
       "    <tr>\n",
       "      <th>2</th>\n",
       "      <td>26.0</td>\n",
       "      <td>X</td>\n",
       "      <td>S</td>\n",
       "      <td>7.9250</td>\n",
       "      <td>Heikkinen, Miss. Laina</td>\n",
       "      <td>0</td>\n",
       "      <td>3</td>\n",
       "      <td>3</td>\n",
       "      <td>female</td>\n",
       "      <td>0</td>\n",
       "      <td>1.0</td>\n",
       "      <td>STON/O2. 3101282</td>\n",
       "    </tr>\n",
       "    <tr>\n",
       "      <th>3</th>\n",
       "      <td>35.0</td>\n",
       "      <td>ABC</td>\n",
       "      <td>S</td>\n",
       "      <td>53.1000</td>\n",
       "      <td>Futrelle, Mrs. Jacques Heath (Lily May Peel)</td>\n",
       "      <td>0</td>\n",
       "      <td>4</td>\n",
       "      <td>1</td>\n",
       "      <td>female</td>\n",
       "      <td>1</td>\n",
       "      <td>1.0</td>\n",
       "      <td>113803</td>\n",
       "    </tr>\n",
       "    <tr>\n",
       "      <th>4</th>\n",
       "      <td>35.0</td>\n",
       "      <td>X</td>\n",
       "      <td>S</td>\n",
       "      <td>8.0500</td>\n",
       "      <td>Allen, Mr. William Henry</td>\n",
       "      <td>0</td>\n",
       "      <td>5</td>\n",
       "      <td>3</td>\n",
       "      <td>male</td>\n",
       "      <td>0</td>\n",
       "      <td>0.0</td>\n",
       "      <td>373450</td>\n",
       "    </tr>\n",
       "  </tbody>\n",
       "</table>\n",
       "</div>"
      ],
      "text/plain": [
       "    Age Deck Embarked     Fare  \\\n",
       "0  22.0    X        S   7.2500   \n",
       "1  38.0  ABC        C  71.2833   \n",
       "2  26.0    X        S   7.9250   \n",
       "3  35.0  ABC        S  53.1000   \n",
       "4  35.0    X        S   8.0500   \n",
       "\n",
       "                                                Name  Parch  PassengerId  \\\n",
       "0                            Braund, Mr. Owen Harris      0            1   \n",
       "1  Cumings, Mrs. John Bradley (Florence Briggs Th...      0            2   \n",
       "2                             Heikkinen, Miss. Laina      0            3   \n",
       "3       Futrelle, Mrs. Jacques Heath (Lily May Peel)      0            4   \n",
       "4                           Allen, Mr. William Henry      0            5   \n",
       "\n",
       "   Pclass     Sex  SibSp  Survived            Ticket  \n",
       "0       3    male      1       0.0         A/5 21171  \n",
       "1       1  female      1       1.0          PC 17599  \n",
       "2       3  female      0       1.0  STON/O2. 3101282  \n",
       "3       1  female      1       1.0            113803  \n",
       "4       3    male      0       0.0            373450  "
      ]
     },
     "execution_count": 25,
     "metadata": {},
     "output_type": "execute_result"
    }
   ],
   "source": [
    "df_all = concat_df(df_train, df_test)\n",
    "df_all.head()"
   ]
  },
  {
   "cell_type": "markdown",
   "metadata": {},
   "source": [
    "<a name='3'></a>\n",
    "# 3. Feature engineering"
   ]
  },
  {
   "cell_type": "markdown",
   "metadata": {},
   "source": [
    "<a name='3.1'></a>\n",
    "## 3.1 Binning Continous features\n",
    "- Is process of transforming from a continuous or numerical variable to a categorical feature by groupping them into some smaller ranges. We called it \"Binning\" technique\n",
    "- Binning of continuous variable is one of feature engineering technique and tends to improve the performance of the model. \n",
    "- The binning can be also used to identify missing values or outliers\n",
    "- This mechanism divived the continuous variable into specific number of bins which is a smaller range out of total range of the numerous feature "
   ]
  },
  {
   "cell_type": "markdown",
   "metadata": {},
   "source": [
    "<a name='3.1.1'></a>\n",
    "### 3.1.1 Fare"
   ]
  },
  {
   "cell_type": "code",
   "execution_count": 26,
   "metadata": {},
   "outputs": [],
   "source": [
    "df_all['Fare'] = pd.qcut(df_all['Fare'], 13)"
   ]
  },
  {
   "cell_type": "code",
   "execution_count": 27,
   "metadata": {},
   "outputs": [
    {
     "data": {
      "image/png": "[encoded data removed]",
      "text/plain": [
       "<Figure size 1080x576 with 1 Axes>"
      ]
     },
     "metadata": {
      "needs_background": "light"
     },
     "output_type": "display_data"
    }
   ],
   "source": [
    "plt.figure(figsize=(15, 8))\n",
    "# Countplot for 2 features\n",
    "sns.countplot(x='Fare', hue='Survived', data=df_all)\n",
    "    \n",
    "plt.xlabel('Fare', size=15, labelpad=15)\n",
    "plt.ylabel('Passenger Count', size=15, labelpad=15)    \n",
    "plt.tick_params(axis='x', labelsize=8)\n",
    "plt.tick_params(axis='y', labelsize=15)\n",
    "    \n",
    "plt.legend(['Not Survived', 'Survived'], loc='upper right', prop={'size': 16})\n",
    "plt.title('Count of Survival in Fare Feature', size=20, y=1.05)\n",
    "plt.show()"
   ]
  },
  {
   "cell_type": "markdown",
   "metadata": {},
   "source": [
    "REMARK\n",
    "- \"Fare\" feature and \"Survived\" rate are negatively correlated with each other\n",
    "- 13 quantiles based bins are used for 'Fare' feature. They provide a decent amount of information gain\n",
    "- The group on the left has the lowest survival rate and the group on the right has the highest survival rate\n",
    "- There is an unusual bin [15.742, 23.25] in the middle of graph which has higher survival rate than the other"
   ]
  },
  {
   "cell_type": "markdown",
   "metadata": {},
   "source": [
    "<a name='3.1.2'></a>\n",
    "### 3.1.2 Age"
   ]
  },
  {
   "cell_type": "code",
   "execution_count": 28,
   "metadata": {},
   "outputs": [],
   "source": [
    "df_all['Age'] = pd.qcut(df_all['Age'], 10)"
   ]
  },
  {
   "cell_type": "code",
   "execution_count": 29,
   "metadata": {},
   "outputs": [
    {
     "data": {
      "image/png": "[encoded data removed]",
      "text/plain": [
       "<Figure size 1080x576 with 1 Axes>"
      ]
     },
     "metadata": {
      "needs_background": "light"
     },
     "output_type": "display_data"
    }
   ],
   "source": [
    "plt.figure(figsize=(15, 8))\n",
    "# Countplot for 2 features\n",
    "sns.countplot(x='Age', hue='Survived', data=df_all)\n",
    "    \n",
    "plt.xlabel('Age', size=15, labelpad=15)\n",
    "plt.ylabel('Passenger Count', size=15, labelpad=15)    \n",
    "plt.tick_params(axis='x', labelsize=8)\n",
    "plt.tick_params(axis='y', labelsize=15)\n",
    "    \n",
    "plt.legend(['Not Survived', 'Survived'], loc='upper right', prop={'size': 16})\n",
    "plt.title('Count of Survival in Age Feature', size=20, y=1.05)\n",
    "plt.show()"
   ]
  },
  {
   "cell_type": "markdown",
   "metadata": {},
   "source": [
    "REMARK\n",
    "- Passenger with ages ranging from [22.0, 25.0] has by far the most lowest survival rate than the other and bin with [0.169, 16] has the highest survival rate\n",
    "- There is an age's group [34.0, 40.0] with unusual high survival rate in this process"
   ]
  },
  {
   "cell_type": "markdown",
   "metadata": {},
   "source": [
    "<a name='3.2'></a>\n",
    "## 3.2 Frequency Encoded Binning"
   ]
  },
  {
   "cell_type": "markdown",
   "metadata": {},
   "source": [
    "<a name='3.2.1'></a>\n",
    "### 3.2.1 Family size\n",
    "- Family_Size is created by adding SibSp, Parch and 1. \n",
    "- Those columns are added to compute the total size of family & 1 is added to the end for current passenger himself/herself. The Family_Size table. Graph also clearly show that `Family_size` is the predictor of survival rate, b.c different size turns out different rate\n",
    "    \n",
    "    - Family size with 1 labeled: Alone\n",
    "    - Family Size with 2, 3 and 4 are labeled as Small\n",
    "    - Family Size with 5 and 6 are labeled as Medium\n",
    "    - Family Size with 7, 8 and 11 are labeled as Large\n",
    "- Because the survival rate is highly effected by whether passenger was alone or not. Therefore, a new feature \"Alone\" can be considered as a flag for the lonely passengers"
   ]
  },
  {
   "cell_type": "code",
   "execution_count": 30,
   "metadata": {},
   "outputs": [],
   "source": [
    "# Family_Size feature\n",
    "df_all['Family_Size'] = df_all['SibSp'] + df_all['Parch'] + 1\n",
    "# Family_Size_Grouped feature\n",
    "family_map = {1:'alone', 2:'small', 3:'small', 4:'small', 5:'medium', 6:'medium', 7:'large', 8:'large', 11:'large'}\n",
    "df_all['Family_Size_Grouped'] = df_all['Family_Size'].map(family_map)\n",
    "# Create feature \"Alone\"\n",
    "df_all['Alone'] = 0\n",
    "df_all['Alone'].loc[df_all['Family_Size_Grouped'] == 'alone'] = 1"
   ]
  },
  {
   "cell_type": "code",
   "execution_count": 31,
   "metadata": {},
   "outputs": [
    {
     "data": {
      "image/png": "[encoded data removed]",
      "text/plain": [
       "<Figure size 1440x1440 with 4 Axes>"
      ]
     },
     "metadata": {
      "needs_background": "light"
     },
     "output_type": "display_data"
    }
   ],
   "source": [
    "fig, axes = plt.subplots(nrows=2, ncols=2, figsize=(20, 20))\n",
    "cols = {1:'Family_Size', 3:'Family_Size_Grouped'}\n",
    "# plt.subplots_adjust(right=1.25, top=1)\n",
    "\n",
    "# i: 1->6 show position of the plot\n",
    "for i, col in cols.items():\n",
    "    # Family size summary\n",
    "    plt.subplot(2, 2, i)\n",
    "    # Countplot for \"Family_Size\" feature\n",
    "    sns.barplot(x=df_all[col].value_counts().index,\n",
    "                y=df_all[col].value_counts().values)\n",
    "    \n",
    "    plt.tick_params(axis='x', labelsize=15)\n",
    "    plt.tick_params(axis='y', labelsize=15)\n",
    "    plt.title('Family size feature', size=15, y=1.05)\n",
    "    \n",
    "\n",
    "    # Family size summary based survival features\n",
    "    plt.subplot(2, 2, i+1)\n",
    "    # Countplot for \"Family_Size\" and \"Survived\" feature\n",
    "    sns.countplot(x=col, hue='Survived', data=df_all)\n",
    "    \n",
    "    plt.tick_params(axis='x', labelsize=15)\n",
    "    plt.tick_params(axis='y', labelsize=15)\n",
    "    plt.legend(['Not Survived', 'Survived'], loc='upper right', prop={'size': 16})\n",
    "    plt.title('Survival Counts in Family Size', size=15, y=1.05)\n",
    "plt.show()"
   ]
  },
  {
   "cell_type": "markdown",
   "metadata": {},
   "source": [
    "<a name='3.2.2'></a>\n",
    "### 3.2.2 Ticket frequency\n",
    "- Passengers who're comming with their families or their mates bought the same tickets\n",
    "- There are too many unique `Ticket` values to analyze, so grouping them up by their frequencies makes things easier.\n",
    "\n",
    "**How** is this feature difference from `Family_size`?\n",
    "- Many passengers travel along with groups who **can be their friends, team mates** not necessary be a family. Therefore, they are not counted in `Family_size` but instead using **the same ticket number**\n",
    "\n",
    "**How** does the family size affect the survival rate?\n",
    "- According to graph, passengers traveling with group of 2, 3, 4 have the highest survival rate, while those who travel alone has the lowest survival rate. From group of 5 onwards, the survival rate decreases dramatically. \n",
    "- The pattern is really similar to `Family_size` feature --> `Ticket_frequency` can be considered as the predictor"
   ]
  },
  {
   "cell_type": "code",
   "execution_count": 32,
   "metadata": {},
   "outputs": [],
   "source": [
    "df_all['Ticket_Frequency'] = df_all.groupby('Ticket')['Ticket'].transform('count')"
   ]
  },
  {
   "cell_type": "code",
   "execution_count": 33,
   "metadata": {},
   "outputs": [
    {
     "data": {
      "image/png": "[encoded data removed]",
      "text/plain": [
       "<Figure size 1080x576 with 1 Axes>"
      ]
     },
     "metadata": {
      "needs_background": "light"
     },
     "output_type": "display_data"
    }
   ],
   "source": [
    "plt.figure(figsize=(15, 8))\n",
    "# Countplot for 2 features\n",
    "sns.countplot(x='Ticket_Frequency', hue='Survived', data=df_all)\n",
    "    \n",
    "plt.xlabel('Ticket_Frequency', size=15, labelpad=15)\n",
    "plt.ylabel('Survival Count', size=15, labelpad=15)    \n",
    "plt.tick_params(axis='x', labelsize=15)\n",
    "plt.tick_params(axis='y', labelsize=15)\n",
    "    \n",
    "plt.legend(['Not Survived', 'Survived'], loc='upper right', prop={'size': 16})\n",
    "plt.title('Count of Survival in Ticket frequency Feature', size=20, y=1.05)\n",
    "plt.show()"
   ]
  },
  {
   "cell_type": "markdown",
   "metadata": {},
   "source": [
    "<a name='3.3'></a>\n",
    "## 3.3 Title & is Married\n",
    "- Title is created by extracting the prefix before Name feature. According to graph below, there are many titles that are occuring very few times. \n",
    "- Some of those titles doesn't seem correct and they need to be replaced. \n",
    "- **Miss, Mrs, Ms, Mlle, Lady, Mme, the Countess, Dona** titles are replaced with Miss/Mrs/Ms because all of them are female. \n",
    "- **Dr, Col, Major, Jonkheer, Capt, Sir, Don and Rev** titles are replaced by **Dr/Sir/Noble/Clergy** because those passengers have similar characteristics. \n",
    "- **Master** is a unique title. It is given to male passengers below age 26. They have the highest survival rate among all males.\n",
    "\n",
    "**Is_Married** is a binary feature based on the **Mrs** title. Mrs title has the highest survival rate among other female titles. This title needs to be a feature because all female titles are grouped with each other."
   ]
  },
  {
   "cell_type": "code",
   "execution_count": 34,
   "metadata": {},
   "outputs": [
    {
     "data": {
      "text/plain": [
       "0                                 Braund, Mr. Owen Harris\n",
       "1       Cumings, Mrs. John Bradley (Florence Briggs Th...\n",
       "2                                  Heikkinen, Miss. Laina\n",
       "3            Futrelle, Mrs. Jacques Heath (Lily May Peel)\n",
       "4                                Allen, Mr. William Henry\n",
       "                              ...                        \n",
       "1304                                   Spector, Mr. Woolf\n",
       "1305                         Oliva y Ocana, Dona. Fermina\n",
       "1306                         Saether, Mr. Simon Sivertsen\n",
       "1307                                  Ware, Mr. Frederick\n",
       "1308                             Peter, Master. Michael J\n",
       "Name: Name, Length: 1309, dtype: object"
      ]
     },
     "execution_count": 34,
     "metadata": {},
     "output_type": "execute_result"
    }
   ],
   "source": [
    "df_all['Name']"
   ]
  },
  {
   "cell_type": "code",
   "execution_count": 35,
   "metadata": {},
   "outputs": [
    {
     "data": {
      "text/plain": [
       "Mr              757\n",
       "Miss            260\n",
       "Mrs             197\n",
       "Master           61\n",
       "Rev               8\n",
       "Dr                8\n",
       "Col               4\n",
       "Mlle              2\n",
       "Major             2\n",
       "Ms                2\n",
       "the Countess      1\n",
       "Don               1\n",
       "Lady              1\n",
       "Capt              1\n",
       "Sir               1\n",
       "Mme               1\n",
       "Jonkheer          1\n",
       "Dona              1\n",
       "Name: Title, dtype: int64"
      ]
     },
     "execution_count": 35,
     "metadata": {},
     "output_type": "execute_result"
    }
   ],
   "source": [
    "# Extract the tile and Is_married signal from the name\n",
    "df_all['Title'] = df_all['Name'].str.split(',', expand=True)[1].str.split('.', expand=True)[0].str.strip()\n",
    "df_all['Married'] = 0\n",
    "df_all['Married'].loc[df_all['Title'] == 'Mrs'] = 1\n",
    "\n",
    "# Title unique values count\n",
    "df_all['Title'].value_counts()"
   ]
  },
  {
   "cell_type": "code",
   "execution_count": 36,
   "metadata": {},
   "outputs": [
    {
     "data": {
      "image/png": "[encoded data removed]",
      "text/plain": [
       "<Figure size 720x720 with 1 Axes>"
      ]
     },
     "metadata": {
      "needs_background": "light"
     },
     "output_type": "display_data"
    }
   ],
   "source": [
    "fig = plt.figure(figsize=(10, 10))\n",
    "\n",
    "# Replace Miss, Mrs, Ms, Mlle, Lady, Mme, the Countess, Dona title as \"Miss/Mrs/Ms\"\n",
    "df_all['Title'] = df_all['Title'].replace(['Miss', 'Mrs','Ms', 'Mlle', 'Lady', 'Mme', 'the Countess', 'Dona'], 'Miss/Mrs/Ms')\n",
    "# Replace Dr, Col, Major, Jonkheer, Capt, Sir, Don and Rev title as \"Dr/Military/Noble/Clergy\"\n",
    "df_all['Title'] = df_all['Title'].replace(['Dr', 'Col', 'Major', 'Jonkheer', 'Capt', 'Sir', 'Don', 'Rev'], 'Dr/Military/Noble/Clergy')\n",
    "\n",
    "sns.barplot(x=df_all['Title'].value_counts().index, y=df_all['Title'].value_counts().values)\n",
    "plt.title('Title Feature Value Counts After Grouping', size=20, y=1.05)\n",
    "\n",
    "plt.show()"
   ]
  },
  {
   "cell_type": "markdown",
   "metadata": {},
   "source": [
    "<a name='3.4'></a>\n",
    "## 3.4 Feature Transformation\n",
    "- After modifying all the features into the appropriate forms, we need to encode the categorical features into numerous so that the data is well-prepared for training model."
   ]
  },
  {
   "cell_type": "code",
   "execution_count": 37,
   "metadata": {},
   "outputs": [],
   "source": [
    "# Train/Test splitting\n",
    "df_train = df_all.loc[:890]\n",
    "df_test = df_all.loc[891:]\n",
    "dfs = [df_train, df_test]"
   ]
  },
  {
   "cell_type": "code",
   "execution_count": 38,
   "metadata": {},
   "outputs": [
    {
     "data": {
      "text/html": [
       "<div>\n",
       "<style scoped>\n",
       "    .dataframe tbody tr th:only-of-type {\n",
       "        vertical-align: middle;\n",
       "    }\n",
       "\n",
       "    .dataframe tbody tr th {\n",
       "        vertical-align: top;\n",
       "    }\n",
       "\n",
       "    .dataframe thead th {\n",
       "        text-align: right;\n",
       "    }\n",
       "</style>\n",
       "<table border=\"1\" class=\"dataframe\">\n",
       "  <thead>\n",
       "    <tr style=\"text-align: right;\">\n",
       "      <th></th>\n",
       "      <th>Age</th>\n",
       "      <th>Deck</th>\n",
       "      <th>Embarked</th>\n",
       "      <th>Fare</th>\n",
       "      <th>Name</th>\n",
       "      <th>Parch</th>\n",
       "      <th>PassengerId</th>\n",
       "      <th>Pclass</th>\n",
       "      <th>Sex</th>\n",
       "      <th>SibSp</th>\n",
       "      <th>Survived</th>\n",
       "      <th>Ticket</th>\n",
       "      <th>Family_Size</th>\n",
       "      <th>Family_Size_Grouped</th>\n",
       "      <th>Alone</th>\n",
       "      <th>Ticket_Frequency</th>\n",
       "      <th>Title</th>\n",
       "      <th>Married</th>\n",
       "    </tr>\n",
       "  </thead>\n",
       "  <tbody>\n",
       "    <tr>\n",
       "      <th>0</th>\n",
       "      <td>(21.0, 22.0]</td>\n",
       "      <td>X</td>\n",
       "      <td>S</td>\n",
       "      <td>(-0.001, 7.25]</td>\n",
       "      <td>Braund, Mr. Owen Harris</td>\n",
       "      <td>0</td>\n",
       "      <td>1</td>\n",
       "      <td>3</td>\n",
       "      <td>male</td>\n",
       "      <td>1</td>\n",
       "      <td>0.0</td>\n",
       "      <td>A/5 21171</td>\n",
       "      <td>2</td>\n",
       "      <td>small</td>\n",
       "      <td>0</td>\n",
       "      <td>1</td>\n",
       "      <td>Mr</td>\n",
       "      <td>0</td>\n",
       "    </tr>\n",
       "    <tr>\n",
       "      <th>1</th>\n",
       "      <td>(34.0, 40.0]</td>\n",
       "      <td>ABC</td>\n",
       "      <td>C</td>\n",
       "      <td>(56.496, 83.475]</td>\n",
       "      <td>Cumings, Mrs. John Bradley (Florence Briggs Th...</td>\n",
       "      <td>0</td>\n",
       "      <td>2</td>\n",
       "      <td>1</td>\n",
       "      <td>female</td>\n",
       "      <td>1</td>\n",
       "      <td>1.0</td>\n",
       "      <td>PC 17599</td>\n",
       "      <td>2</td>\n",
       "      <td>small</td>\n",
       "      <td>0</td>\n",
       "      <td>2</td>\n",
       "      <td>Miss/Mrs/Ms</td>\n",
       "      <td>1</td>\n",
       "    </tr>\n",
       "    <tr>\n",
       "      <th>2</th>\n",
       "      <td>(25.0, 26.0]</td>\n",
       "      <td>X</td>\n",
       "      <td>S</td>\n",
       "      <td>(7.896, 8.05]</td>\n",
       "      <td>Heikkinen, Miss. Laina</td>\n",
       "      <td>0</td>\n",
       "      <td>3</td>\n",
       "      <td>3</td>\n",
       "      <td>female</td>\n",
       "      <td>0</td>\n",
       "      <td>1.0</td>\n",
       "      <td>STON/O2. 3101282</td>\n",
       "      <td>1</td>\n",
       "      <td>alone</td>\n",
       "      <td>1</td>\n",
       "      <td>1</td>\n",
       "      <td>Miss/Mrs/Ms</td>\n",
       "      <td>0</td>\n",
       "    </tr>\n",
       "    <tr>\n",
       "      <th>3</th>\n",
       "      <td>(34.0, 40.0]</td>\n",
       "      <td>ABC</td>\n",
       "      <td>S</td>\n",
       "      <td>(34.075, 56.496]</td>\n",
       "      <td>Futrelle, Mrs. Jacques Heath (Lily May Peel)</td>\n",
       "      <td>0</td>\n",
       "      <td>4</td>\n",
       "      <td>1</td>\n",
       "      <td>female</td>\n",
       "      <td>1</td>\n",
       "      <td>1.0</td>\n",
       "      <td>113803</td>\n",
       "      <td>2</td>\n",
       "      <td>small</td>\n",
       "      <td>0</td>\n",
       "      <td>2</td>\n",
       "      <td>Miss/Mrs/Ms</td>\n",
       "      <td>1</td>\n",
       "    </tr>\n",
       "    <tr>\n",
       "      <th>4</th>\n",
       "      <td>(34.0, 40.0]</td>\n",
       "      <td>X</td>\n",
       "      <td>S</td>\n",
       "      <td>(7.896, 8.05]</td>\n",
       "      <td>Allen, Mr. William Henry</td>\n",
       "      <td>0</td>\n",
       "      <td>5</td>\n",
       "      <td>3</td>\n",
       "      <td>male</td>\n",
       "      <td>0</td>\n",
       "      <td>0.0</td>\n",
       "      <td>373450</td>\n",
       "      <td>1</td>\n",
       "      <td>alone</td>\n",
       "      <td>1</td>\n",
       "      <td>1</td>\n",
       "      <td>Mr</td>\n",
       "      <td>0</td>\n",
       "    </tr>\n",
       "  </tbody>\n",
       "</table>\n",
       "</div>"
      ],
      "text/plain": [
       "            Age Deck Embarked              Fare  \\\n",
       "0  (21.0, 22.0]    X        S    (-0.001, 7.25]   \n",
       "1  (34.0, 40.0]  ABC        C  (56.496, 83.475]   \n",
       "2  (25.0, 26.0]    X        S     (7.896, 8.05]   \n",
       "3  (34.0, 40.0]  ABC        S  (34.075, 56.496]   \n",
       "4  (34.0, 40.0]    X        S     (7.896, 8.05]   \n",
       "\n",
       "                                                Name  Parch  PassengerId  \\\n",
       "0                            Braund, Mr. Owen Harris      0            1   \n",
       "1  Cumings, Mrs. John Bradley (Florence Briggs Th...      0            2   \n",
       "2                             Heikkinen, Miss. Laina      0            3   \n",
       "3       Futrelle, Mrs. Jacques Heath (Lily May Peel)      0            4   \n",
       "4                           Allen, Mr. William Henry      0            5   \n",
       "\n",
       "   Pclass     Sex  SibSp  Survived            Ticket  Family_Size  \\\n",
       "0       3    male      1       0.0         A/5 21171            2   \n",
       "1       1  female      1       1.0          PC 17599            2   \n",
       "2       3  female      0       1.0  STON/O2. 3101282            1   \n",
       "3       1  female      1       1.0            113803            2   \n",
       "4       3    male      0       0.0            373450            1   \n",
       "\n",
       "  Family_Size_Grouped  Alone  Ticket_Frequency        Title  Married  \n",
       "0               small      0                 1           Mr        0  \n",
       "1               small      0                 2  Miss/Mrs/Ms        1  \n",
       "2               alone      1                 1  Miss/Mrs/Ms        0  \n",
       "3               small      0                 2  Miss/Mrs/Ms        1  \n",
       "4               alone      1                 1           Mr        0  "
      ]
     },
     "execution_count": 38,
     "metadata": {},
     "output_type": "execute_result"
    }
   ],
   "source": [
    "df_train.head()"
   ]
  },
  {
   "cell_type": "markdown",
   "metadata": {},
   "source": [
    "<a name='3.4.1'></a>\n",
    "### 3.4.1 Label encoding non-numerical features\n",
    "- Norminal data: `Embarked`, `Deck`, `Sex`, `Title`\n",
    "- Ordinal data: `Family_Size_Grouped`, `Age`, `Fare`\n",
    "\n",
    "We convert them into numerical data type by using `LabelEncoding`. `LabelEncoding` basically transform categorical value to 0 to n class based on their unique values of each features\n",
    "\n",
    "Note that:\n",
    "- **Nominal data** is a type of data that is used as naming or label variables without providing any quantitative value\n",
    "- **Ordinal data** contains same features as nominal data but plussing the capability of ordered & measured features"
   ]
  },
  {
   "cell_type": "code",
   "execution_count": 39,
   "metadata": {},
   "outputs": [],
   "source": [
    "non_numeric_features = ['Embarked', 'Sex', 'Deck', 'Title', 'Family_Size_Grouped', 'Age', 'Fare']\n",
    "\n",
    "for df in dfs:\n",
    "    for feature in non_numeric_features:\n",
    "        df[feature] = preprocessing.LabelEncoder().fit_transform(df[feature])"
   ]
  },
  {
   "cell_type": "code",
   "execution_count": 40,
   "metadata": {},
   "outputs": [
    {
     "data": {
      "text/html": [
       "<div>\n",
       "<style scoped>\n",
       "    .dataframe tbody tr th:only-of-type {\n",
       "        vertical-align: middle;\n",
       "    }\n",
       "\n",
       "    .dataframe tbody tr th {\n",
       "        vertical-align: top;\n",
       "    }\n",
       "\n",
       "    .dataframe thead th {\n",
       "        text-align: right;\n",
       "    }\n",
       "</style>\n",
       "<table border=\"1\" class=\"dataframe\">\n",
       "  <thead>\n",
       "    <tr style=\"text-align: right;\">\n",
       "      <th></th>\n",
       "      <th>Embarked</th>\n",
       "      <th>Sex</th>\n",
       "      <th>Deck</th>\n",
       "      <th>Title</th>\n",
       "      <th>Family_Size_Grouped</th>\n",
       "      <th>Age</th>\n",
       "      <th>Fare</th>\n",
       "    </tr>\n",
       "  </thead>\n",
       "  <tbody>\n",
       "    <tr>\n",
       "      <th>0</th>\n",
       "      <td>2</td>\n",
       "      <td>1</td>\n",
       "      <td>3</td>\n",
       "      <td>3</td>\n",
       "      <td>3</td>\n",
       "      <td>2</td>\n",
       "      <td>0</td>\n",
       "    </tr>\n",
       "    <tr>\n",
       "      <th>1</th>\n",
       "      <td>0</td>\n",
       "      <td>0</td>\n",
       "      <td>0</td>\n",
       "      <td>2</td>\n",
       "      <td>3</td>\n",
       "      <td>7</td>\n",
       "      <td>11</td>\n",
       "    </tr>\n",
       "    <tr>\n",
       "      <th>2</th>\n",
       "      <td>2</td>\n",
       "      <td>0</td>\n",
       "      <td>3</td>\n",
       "      <td>2</td>\n",
       "      <td>0</td>\n",
       "      <td>4</td>\n",
       "      <td>3</td>\n",
       "    </tr>\n",
       "    <tr>\n",
       "      <th>3</th>\n",
       "      <td>2</td>\n",
       "      <td>0</td>\n",
       "      <td>0</td>\n",
       "      <td>2</td>\n",
       "      <td>3</td>\n",
       "      <td>7</td>\n",
       "      <td>10</td>\n",
       "    </tr>\n",
       "    <tr>\n",
       "      <th>4</th>\n",
       "      <td>2</td>\n",
       "      <td>1</td>\n",
       "      <td>3</td>\n",
       "      <td>3</td>\n",
       "      <td>0</td>\n",
       "      <td>7</td>\n",
       "      <td>3</td>\n",
       "    </tr>\n",
       "    <tr>\n",
       "      <th>...</th>\n",
       "      <td>...</td>\n",
       "      <td>...</td>\n",
       "      <td>...</td>\n",
       "      <td>...</td>\n",
       "      <td>...</td>\n",
       "      <td>...</td>\n",
       "      <td>...</td>\n",
       "    </tr>\n",
       "    <tr>\n",
       "      <th>886</th>\n",
       "      <td>2</td>\n",
       "      <td>1</td>\n",
       "      <td>3</td>\n",
       "      <td>0</td>\n",
       "      <td>0</td>\n",
       "      <td>5</td>\n",
       "      <td>5</td>\n",
       "    </tr>\n",
       "    <tr>\n",
       "      <th>887</th>\n",
       "      <td>2</td>\n",
       "      <td>0</td>\n",
       "      <td>0</td>\n",
       "      <td>2</td>\n",
       "      <td>0</td>\n",
       "      <td>1</td>\n",
       "      <td>9</td>\n",
       "    </tr>\n",
       "    <tr>\n",
       "      <th>888</th>\n",
       "      <td>2</td>\n",
       "      <td>0</td>\n",
       "      <td>3</td>\n",
       "      <td>2</td>\n",
       "      <td>3</td>\n",
       "      <td>2</td>\n",
       "      <td>8</td>\n",
       "    </tr>\n",
       "    <tr>\n",
       "      <th>889</th>\n",
       "      <td>0</td>\n",
       "      <td>1</td>\n",
       "      <td>0</td>\n",
       "      <td>3</td>\n",
       "      <td>0</td>\n",
       "      <td>4</td>\n",
       "      <td>9</td>\n",
       "    </tr>\n",
       "    <tr>\n",
       "      <th>890</th>\n",
       "      <td>1</td>\n",
       "      <td>1</td>\n",
       "      <td>3</td>\n",
       "      <td>3</td>\n",
       "      <td>0</td>\n",
       "      <td>6</td>\n",
       "      <td>1</td>\n",
       "    </tr>\n",
       "  </tbody>\n",
       "</table>\n",
       "<p>891 rows × 7 columns</p>\n",
       "</div>"
      ],
      "text/plain": [
       "     Embarked  Sex  Deck  Title  Family_Size_Grouped  Age  Fare\n",
       "0           2    1     3      3                    3    2     0\n",
       "1           0    0     0      2                    3    7    11\n",
       "2           2    0     3      2                    0    4     3\n",
       "3           2    0     0      2                    3    7    10\n",
       "4           2    1     3      3                    0    7     3\n",
       "..        ...  ...   ...    ...                  ...  ...   ...\n",
       "886         2    1     3      0                    0    5     5\n",
       "887         2    0     0      2                    0    1     9\n",
       "888         2    0     3      2                    3    2     8\n",
       "889         0    1     0      3                    0    4     9\n",
       "890         1    1     3      3                    0    6     1\n",
       "\n",
       "[891 rows x 7 columns]"
      ]
     },
     "execution_count": 40,
     "metadata": {},
     "output_type": "execute_result"
    }
   ],
   "source": [
    "df_train[non_numeric_features]"
   ]
  },
  {
   "cell_type": "markdown",
   "metadata": {},
   "source": [
    "<a name='3.4.2'></a>\n",
    "### 3.4.2 One-hot Encoding the categorical features\n",
    "- We do NOT encode `Family_Size_Grouped`, `Age`, `Fare` feature using One-hot encoder b.c they are ordinal data type\n",
    "- Because the natural ordering between ordinal categories resulting from One-hot encoding may tend to poor performance or unexpected consequence"
   ]
  },
  {
   "cell_type": "code",
   "execution_count": 41,
   "metadata": {},
   "outputs": [],
   "source": [
    "cat_features = ['Sex', 'Deck', 'Embarked', 'Title']\n",
    "# encoded_features: list of encoded df of training & testing dataset\n",
    "encoded_features = []\n",
    "\n",
    "# One-hot encoding for both training & testing set\n",
    "for df in dfs:\n",
    "    for feature in cat_features:\n",
    "        # Change to array after encoding b.c want to add columns when change back to df\n",
    "        encoded_feat = preprocessing.OneHotEncoder().fit_transform(df[feature].values.reshape(-1, 1)).toarray()\n",
    "        # num of unique value in each feature\n",
    "        n = df[feature].nunique()\n",
    "        # \"feature_uniqueVal\" are the col's names in df after One-hot encoding\n",
    "        cols = ['{}_{}'.format(feature, n) for n in range(1, n + 1)]\n",
    "        encoded_df = pd.DataFrame(encoded_feat, columns=cols)\n",
    "        encoded_df.index = df.index\n",
    "        encoded_features.append(encoded_df)\n",
    "        \n",
    "df_train = pd.concat([df_train, *encoded_features[:4]], axis=1)\n",
    "df_test = pd.concat([df_test, *encoded_features[4:]], axis=1)"
   ]
  },
  {
   "cell_type": "code",
   "execution_count": 42,
   "metadata": {},
   "outputs": [],
   "source": [
    "# For submission dataframe\n",
    "passengerID = df_test['PassengerId']\n",
    "\n",
    "drop_cols = ['Deck', 'Embarked', 'Family_Size', 'Name', 'Parch', \n",
    "             'PassengerId', 'Sex', 'SibSp', 'Ticket', 'Title']\n",
    "\n",
    "df_train.drop(columns=drop_cols, inplace=True)\n",
    "drop_cols.append(\"Survived\")\n",
    "df_test.drop(columns=drop_cols, inplace=True)"
   ]
  },
  {
   "cell_type": "code",
   "execution_count": 43,
   "metadata": {},
   "outputs": [
    {
     "data": {
      "text/html": [
       "<div>\n",
       "<style scoped>\n",
       "    .dataframe tbody tr th:only-of-type {\n",
       "        vertical-align: middle;\n",
       "    }\n",
       "\n",
       "    .dataframe tbody tr th {\n",
       "        vertical-align: top;\n",
       "    }\n",
       "\n",
       "    .dataframe thead th {\n",
       "        text-align: right;\n",
       "    }\n",
       "</style>\n",
       "<table border=\"1\" class=\"dataframe\">\n",
       "  <thead>\n",
       "    <tr style=\"text-align: right;\">\n",
       "      <th></th>\n",
       "      <th>Age</th>\n",
       "      <th>Fare</th>\n",
       "      <th>Pclass</th>\n",
       "      <th>Survived</th>\n",
       "      <th>Family_Size_Grouped</th>\n",
       "      <th>Alone</th>\n",
       "      <th>Ticket_Frequency</th>\n",
       "      <th>Married</th>\n",
       "      <th>Sex_1</th>\n",
       "      <th>Sex_2</th>\n",
       "      <th>...</th>\n",
       "      <th>Deck_2</th>\n",
       "      <th>Deck_3</th>\n",
       "      <th>Deck_4</th>\n",
       "      <th>Embarked_1</th>\n",
       "      <th>Embarked_2</th>\n",
       "      <th>Embarked_3</th>\n",
       "      <th>Title_1</th>\n",
       "      <th>Title_2</th>\n",
       "      <th>Title_3</th>\n",
       "      <th>Title_4</th>\n",
       "    </tr>\n",
       "  </thead>\n",
       "  <tbody>\n",
       "    <tr>\n",
       "      <th>0</th>\n",
       "      <td>2</td>\n",
       "      <td>0</td>\n",
       "      <td>3</td>\n",
       "      <td>0.0</td>\n",
       "      <td>3</td>\n",
       "      <td>0</td>\n",
       "      <td>1</td>\n",
       "      <td>0</td>\n",
       "      <td>0.0</td>\n",
       "      <td>1.0</td>\n",
       "      <td>...</td>\n",
       "      <td>0.0</td>\n",
       "      <td>0.0</td>\n",
       "      <td>1.0</td>\n",
       "      <td>0.0</td>\n",
       "      <td>0.0</td>\n",
       "      <td>1.0</td>\n",
       "      <td>0.0</td>\n",
       "      <td>0.0</td>\n",
       "      <td>0.0</td>\n",
       "      <td>1.0</td>\n",
       "    </tr>\n",
       "    <tr>\n",
       "      <th>1</th>\n",
       "      <td>7</td>\n",
       "      <td>11</td>\n",
       "      <td>1</td>\n",
       "      <td>1.0</td>\n",
       "      <td>3</td>\n",
       "      <td>0</td>\n",
       "      <td>2</td>\n",
       "      <td>1</td>\n",
       "      <td>1.0</td>\n",
       "      <td>0.0</td>\n",
       "      <td>...</td>\n",
       "      <td>0.0</td>\n",
       "      <td>0.0</td>\n",
       "      <td>0.0</td>\n",
       "      <td>1.0</td>\n",
       "      <td>0.0</td>\n",
       "      <td>0.0</td>\n",
       "      <td>0.0</td>\n",
       "      <td>0.0</td>\n",
       "      <td>1.0</td>\n",
       "      <td>0.0</td>\n",
       "    </tr>\n",
       "    <tr>\n",
       "      <th>2</th>\n",
       "      <td>4</td>\n",
       "      <td>3</td>\n",
       "      <td>3</td>\n",
       "      <td>1.0</td>\n",
       "      <td>0</td>\n",
       "      <td>1</td>\n",
       "      <td>1</td>\n",
       "      <td>0</td>\n",
       "      <td>1.0</td>\n",
       "      <td>0.0</td>\n",
       "      <td>...</td>\n",
       "      <td>0.0</td>\n",
       "      <td>0.0</td>\n",
       "      <td>1.0</td>\n",
       "      <td>0.0</td>\n",
       "      <td>0.0</td>\n",
       "      <td>1.0</td>\n",
       "      <td>0.0</td>\n",
       "      <td>0.0</td>\n",
       "      <td>1.0</td>\n",
       "      <td>0.0</td>\n",
       "    </tr>\n",
       "    <tr>\n",
       "      <th>3</th>\n",
       "      <td>7</td>\n",
       "      <td>10</td>\n",
       "      <td>1</td>\n",
       "      <td>1.0</td>\n",
       "      <td>3</td>\n",
       "      <td>0</td>\n",
       "      <td>2</td>\n",
       "      <td>1</td>\n",
       "      <td>1.0</td>\n",
       "      <td>0.0</td>\n",
       "      <td>...</td>\n",
       "      <td>0.0</td>\n",
       "      <td>0.0</td>\n",
       "      <td>0.0</td>\n",
       "      <td>0.0</td>\n",
       "      <td>0.0</td>\n",
       "      <td>1.0</td>\n",
       "      <td>0.0</td>\n",
       "      <td>0.0</td>\n",
       "      <td>1.0</td>\n",
       "      <td>0.0</td>\n",
       "    </tr>\n",
       "    <tr>\n",
       "      <th>4</th>\n",
       "      <td>7</td>\n",
       "      <td>3</td>\n",
       "      <td>3</td>\n",
       "      <td>0.0</td>\n",
       "      <td>0</td>\n",
       "      <td>1</td>\n",
       "      <td>1</td>\n",
       "      <td>0</td>\n",
       "      <td>0.0</td>\n",
       "      <td>1.0</td>\n",
       "      <td>...</td>\n",
       "      <td>0.0</td>\n",
       "      <td>0.0</td>\n",
       "      <td>1.0</td>\n",
       "      <td>0.0</td>\n",
       "      <td>0.0</td>\n",
       "      <td>1.0</td>\n",
       "      <td>0.0</td>\n",
       "      <td>0.0</td>\n",
       "      <td>0.0</td>\n",
       "      <td>1.0</td>\n",
       "    </tr>\n",
       "  </tbody>\n",
       "</table>\n",
       "<p>5 rows × 21 columns</p>\n",
       "</div>"
      ],
      "text/plain": [
       "   Age  Fare  Pclass  Survived  Family_Size_Grouped  Alone  Ticket_Frequency  \\\n",
       "0    2     0       3       0.0                    3      0                 1   \n",
       "1    7    11       1       1.0                    3      0                 2   \n",
       "2    4     3       3       1.0                    0      1                 1   \n",
       "3    7    10       1       1.0                    3      0                 2   \n",
       "4    7     3       3       0.0                    0      1                 1   \n",
       "\n",
       "   Married  Sex_1  Sex_2  ...  Deck_2  Deck_3  Deck_4  Embarked_1  Embarked_2  \\\n",
       "0        0    0.0    1.0  ...     0.0     0.0     1.0         0.0         0.0   \n",
       "1        1    1.0    0.0  ...     0.0     0.0     0.0         1.0         0.0   \n",
       "2        0    1.0    0.0  ...     0.0     0.0     1.0         0.0         0.0   \n",
       "3        1    1.0    0.0  ...     0.0     0.0     0.0         0.0         0.0   \n",
       "4        0    0.0    1.0  ...     0.0     0.0     1.0         0.0         0.0   \n",
       "\n",
       "   Embarked_3  Title_1  Title_2  Title_3  Title_4  \n",
       "0         1.0      0.0      0.0      0.0      1.0  \n",
       "1         0.0      0.0      0.0      1.0      0.0  \n",
       "2         1.0      0.0      0.0      1.0      0.0  \n",
       "3         1.0      0.0      0.0      1.0      0.0  \n",
       "4         1.0      0.0      0.0      0.0      1.0  \n",
       "\n",
       "[5 rows x 21 columns]"
      ]
     },
     "execution_count": 43,
     "metadata": {},
     "output_type": "execute_result"
    }
   ],
   "source": [
    "df_train.head()"
   ]
  },
  {
   "cell_type": "markdown",
   "metadata": {},
   "source": [
    "## Conclusion\n",
    "- `Age` and `Fare` features are binned. Binning features helps dealing with outliers. `Family_size` is created by summing value of `Parch` as number of parent's member, `SibSp` as number of children's member and plussing 1 as him/herself. `Ticket_Frequency` is created by counting the frequency of each unique ticket\n",
    "- `Name` feature is very useful. First, `Title` and `Is_Married` features are created from the title prefix in the names.\n",
    "- Finally, the non-numeric type features are label encoded and categorical non-ordinal features are one-hot encoded. Created 5 new features (`Family_Size_Grouped`, `Title`, `Is_Married`, `Deck`, `Ticket_Frequency`) and dropped the useless features after encoding."
   ]
  },
  {
   "cell_type": "markdown",
   "metadata": {},
   "source": [
    "<a name='4'></a>\n",
    "# 4. Modeling\n",
    "Titanic competition is a binary classification and regression problems. We want to determine the relationship between the features (Age, Fare, Sex,...) and the target column (Survived). Based on the given dataset including this type of problem, a category of machine learning which is called Supervised learning should be useful. Therefore we can narrow down our choice to these below supervised algorithms:\n",
    "- K-Nearest Neightbors (KNN)\n",
    "- Support Vector Machines\n",
    "- Naive Bayes Classifier\n",
    "- Decision tree\n",
    "- Random forest\n",
    "- Extra tree\n",
    "- Logistic regression\n",
    "- Stochastic gradient Boosting"
   ]
  },
  {
   "cell_type": "code",
   "execution_count": 44,
   "metadata": {},
   "outputs": [
    {
     "name": "stdout",
     "output_type": "stream",
     "text": [
      "X_train shape: (891, 20)\n",
      "y_train shape: (891,)\n",
      "X_test shape: (418, 20)\n"
     ]
    }
   ],
   "source": [
    "X_train = preprocessing.StandardScaler().fit_transform(df_train.drop(['Survived'], axis=1))\n",
    "y_train = df_train['Survived'].values\n",
    "X_test = preprocessing.StandardScaler().fit_transform(df_test)\n",
    "\n",
    "print('X_train shape: {}'.format(X_train.shape))\n",
    "print('y_train shape: {}'.format(y_train.shape))\n",
    "print('X_test shape: {}'.format(X_test.shape))"
   ]
  },
  {
   "cell_type": "markdown",
   "metadata": {},
   "source": [
    "<a name='4.1'></a>\n",
    "## 4.1 Cross validate simple models\n",
    "The goal of any supervised algorithm is to best optimize the mapping function (f) for\n",
    "the output variable (Y) with given input data (X)\n",
    "- In order to create an efficient model, training and testing dataset should comes from different distributions so that the model is capable of adapting to the real-world data\n",
    "- Therefore, in common cases, the performances on training dataset is largely higher than\n",
    "those on testing dataset. This problem is called **\"Variance error\"**\n",
    "\n",
    "**\"K-fold Cross validation\"** technique provides a smart move to avoid this problem. It split the training data into k equaled groups & perform the prediction process on 1 group, the other groups are used for training the model. The whole process will be repeatedly carried out for each group & averaging the accuracy of them all to get the final result "
   ]
  },
  {
   "cell_type": "code",
   "execution_count": 45,
   "metadata": {},
   "outputs": [],
   "source": [
    "from sklearn.model_selection import KFold #for K-fold cross validation\n",
    "from sklearn.model_selection import cross_val_score #score evaluation\n",
    "from sklearn.model_selection import cross_val_predict #prediction"
   ]
  },
  {
   "cell_type": "code",
   "execution_count": 46,
   "metadata": {},
   "outputs": [],
   "source": [
    "# Cross validate models with K-fold cross validation\n",
    "Kfold = KFold(n_splits=10, random_state=SEED)"
   ]
  },
  {
   "cell_type": "code",
   "execution_count": 47,
   "metadata": {},
   "outputs": [],
   "source": [
    "ML_algos = {\n",
    "    'KNN' : neighbors.KNeighborsClassifier(),\n",
    "    'SVC' : svm.SVC(probability=True, random_state=SEED),\n",
    "    'GaussianNB' : naive_bayes.GaussianNB(),\n",
    "    'DTree' : tree.DecisionTreeClassifier(random_state=SEED),\n",
    "    'RFor' : ensemble.RandomForestClassifier(random_state=SEED),\n",
    "    'LReg' : linear_model.LogisticRegressionCV(random_state=SEED),\n",
    "    'GrB' : ensemble.GradientBoostingClassifier(random_state=SEED),\n",
    "    'ExTree' : ensemble.ExtraTreesClassifier(random_state=SEED)\n",
    "}\n",
    "cv_result = dict()\n",
    "cv_mean = dict()\n",
    "cv_std = dict()\n",
    "\n",
    "# Compute the cross validation result of each ML algorithm\n",
    "for name, ML_algo in ML_algos.items():\n",
    "    cv_result[name] = cross_val_score(ML_algo, X_train, y=y_train, scoring='accuracy', cv=Kfold, n_jobs=3)\n",
    "    cv_mean[name] = cv_result[name].mean()\n",
    "    cv_std[name] = cv_result[name].std()\n",
    "    "
   ]
  },
  {
   "cell_type": "code",
   "execution_count": 48,
   "metadata": {},
   "outputs": [
    {
     "data": {
      "text/html": [
       "<div>\n",
       "<style scoped>\n",
       "    .dataframe tbody tr th:only-of-type {\n",
       "        vertical-align: middle;\n",
       "    }\n",
       "\n",
       "    .dataframe tbody tr th {\n",
       "        vertical-align: top;\n",
       "    }\n",
       "\n",
       "    .dataframe thead th {\n",
       "        text-align: right;\n",
       "    }\n",
       "</style>\n",
       "<table border=\"1\" class=\"dataframe\">\n",
       "  <thead>\n",
       "    <tr style=\"text-align: right;\">\n",
       "      <th></th>\n",
       "      <th>cv_mean</th>\n",
       "      <th>cv_std</th>\n",
       "    </tr>\n",
       "  </thead>\n",
       "  <tbody>\n",
       "    <tr>\n",
       "      <th>KNN</th>\n",
       "      <td>0.813758</td>\n",
       "      <td>0.039216</td>\n",
       "    </tr>\n",
       "    <tr>\n",
       "      <th>SVC</th>\n",
       "      <td>0.827154</td>\n",
       "      <td>0.028549</td>\n",
       "    </tr>\n",
       "    <tr>\n",
       "      <th>GaussianNB</th>\n",
       "      <td>0.787928</td>\n",
       "      <td>0.038080</td>\n",
       "    </tr>\n",
       "    <tr>\n",
       "      <th>DTree</th>\n",
       "      <td>0.804782</td>\n",
       "      <td>0.042873</td>\n",
       "    </tr>\n",
       "    <tr>\n",
       "      <th>RFor</th>\n",
       "      <td>0.804719</td>\n",
       "      <td>0.034849</td>\n",
       "    </tr>\n",
       "    <tr>\n",
       "      <th>LReg</th>\n",
       "      <td>0.835031</td>\n",
       "      <td>0.040147</td>\n",
       "    </tr>\n",
       "    <tr>\n",
       "      <th>GrB</th>\n",
       "      <td>0.840674</td>\n",
       "      <td>0.045240</td>\n",
       "    </tr>\n",
       "    <tr>\n",
       "      <th>ExTree</th>\n",
       "      <td>0.803583</td>\n",
       "      <td>0.041241</td>\n",
       "    </tr>\n",
       "  </tbody>\n",
       "</table>\n",
       "</div>"
      ],
      "text/plain": [
       "             cv_mean    cv_std\n",
       "KNN         0.813758  0.039216\n",
       "SVC         0.827154  0.028549\n",
       "GaussianNB  0.787928  0.038080\n",
       "DTree       0.804782  0.042873\n",
       "RFor        0.804719  0.034849\n",
       "LReg        0.835031  0.040147\n",
       "GrB         0.840674  0.045240\n",
       "ExTree      0.803583  0.041241"
      ]
     },
     "execution_count": 48,
     "metadata": {},
     "output_type": "execute_result"
    }
   ],
   "source": [
    "ML_cv = pd.DataFrame({'cv_mean' : cv_mean, 'cv_std' : cv_std})\n",
    "ML_cv"
   ]
  },
  {
   "cell_type": "code",
   "execution_count": 49,
   "metadata": {},
   "outputs": [
    {
     "data": {
      "image/png": "[encoded data removed]",
      "text/plain": [
       "<Figure size 720x360 with 1 Axes>"
      ]
     },
     "metadata": {
      "needs_background": "light"
     },
     "output_type": "display_data"
    }
   ],
   "source": [
    "fig = plt.figure(figsize=(10, 5))\n",
    "ax = sns.barplot(x=ML_cv['cv_mean'], y=ML_cv.index, orient='h')\n",
    "ax.set_title('ML algorithms cross validation mean values', fontsize=15)\n",
    "plt.show()"
   ]
  },
  {
   "cell_type": "markdown",
   "metadata": {},
   "source": [
    "<a name='4.2'></a>\n",
    "## 4.2 Hyper parameters tuning\n",
    "- Each model architecture has their own set of parameters which is called \"Hyperparameters\".\n",
    "- \"Hyperparameters tuning\" is a process of constructing clear plan to search for the ideal model architectures by choosing the best options for the their set of parameters "
   ]
  },
  {
   "cell_type": "code",
   "execution_count": 50,
   "metadata": {},
   "outputs": [],
   "source": [
    "# Cleaner & greater ways forhyperparameters\n",
    "# Hyperparameter Tune with GridSearchCV\n",
    "n_estimators = [10, 50, 100, 300]\n",
    "\n",
    "grid_param = [\n",
    "    # KNN \n",
    "    {'n_neighbors' : range(1, 31),\n",
    "     'weights' : ['uniform', 'distance'],\n",
    "     'metric' : ['euclidean', 'manhattan', 'minkowski']},\n",
    "    \n",
    "    # Support vector machine \n",
    "    {'kernel' : ['poly', 'rbf', 'sigmoid'],\n",
    "     'C' : [50, 10, 1.0, 0.1, 0.01], \n",
    "     'gamma' : ['scale']},\n",
    "    \n",
    "    # Gradient Boosting \n",
    "    {'n_estimators' : n_estimators,\n",
    "     'learning_rate': [0.001, 0.01, 0.1],\n",
    "     'subsample' : [0.5, 0.7, 1.0],\n",
    "     'max_depth' : [3, 7, 9] },\n",
    "    \n",
    "    # Random forest \n",
    "    {'n_estimators' : n_estimators,\n",
    "    'max_features' : ['sqrt', 'log2'],\n",
    "    'criterion' : ['gini', 'entropy'],\n",
    "    'oob_score' : [True]},\n",
    "    \n",
    "    # Logistic regression\n",
    "    {'solver' : ['newton-cg', 'lbfgs', 'liblinear'],\n",
    "     'Cs' : [10, 1.0, 0.1, 0.01],\n",
    "    'fit_intercept': [True, False]}\n",
    "]\n",
    "\n",
    "ML_algos = {\n",
    "    'KNN' : neighbors.KNeighborsClassifier(),\n",
    "    'SVC' : svm.SVC(probability=True, random_state=SEED),\n",
    "    'GrB' : ensemble.GradientBoostingClassifier(random_state=SEED),\n",
    "    'RFor' : ensemble.RandomForestClassifier(random_state=SEED),\n",
    "    'LReg' : linear_model.LogisticRegressionCV(random_state=SEED)\n",
    "}"
   ]
  },
  {
   "cell_type": "code",
   "execution_count": 52,
   "metadata": {},
   "outputs": [
    {
     "name": "stdout",
     "output_type": "stream",
     "text": [
      "The best parameter for KNeighborsClassifier() is {'metric': 'manhattan', 'n_neighbors': 11, 'weights': 'uniform'} with the best accuracy score 0.8328089887640451\n",
      "Computational runtime of this algo: 9.43 seconds\n",
      "\n",
      "The best parameter for SVC(probability=True, random_state=42) is {'C': 10, 'gamma': 'scale', 'kernel': 'rbf'} with the best accuracy score 0.8294132334581772\n",
      "Computational runtime of this algo: 7.13 seconds\n",
      "\n",
      "The best parameter for GradientBoostingClassifier(random_state=42) is {'learning_rate': 0.1, 'max_depth': 3, 'n_estimators': 100, 'subsample': 1.0} with the best accuracy score 0.8406741573033708\n",
      "Computational runtime of this algo: 298.91 seconds\n",
      "\n",
      "The best parameter for RandomForestClassifier(random_state=42) is {'criterion': 'entropy', 'max_features': 'sqrt', 'n_estimators': 50, 'oob_score': True} with the best accuracy score 0.8103370786516854\n",
      "Computational runtime of this algo: 32.98 seconds\n",
      "\n",
      "The best parameter for LogisticRegressionCV(random_state=42) is {'Cs': 10, 'fit_intercept': True, 'solver': 'newton-cg'} with the best accuracy score 0.8350312109862671\n",
      "Computational runtime of this algo: 22.41 seconds\n",
      "\n",
      "Total optimization time was 6.18 minutes.\n"
     ]
    }
   ],
   "source": [
    "# Time performance counter\n",
    "start_time = time.perf_counter()\n",
    "\n",
    "for param, ML_algo in zip(grid_param, ML_algos.values()):\n",
    "    # Start counting time\n",
    "    start = time.perf_counter()\n",
    "    grid_search = GridSearchCV(estimator = ML_algo, param_grid=param, n_jobs=2, cv=Kfold, \n",
    "                               scoring='accuracy',error_score=0)\n",
    "    grid_result = grid_search.fit(X_train, y_train)\n",
    "    best_params = grid_result.best_params_\n",
    "    best_score = grid_result.best_score_\n",
    "    # Compute time for executing each algo\n",
    "    run = time.perf_counter() - start\n",
    "    \n",
    "    print(f'The best parameter for {ML_algo} is {best_params} with the best accuracy score {best_score}')\n",
    "    print(f'Computational runtime of this algo: {round(run, 2)} seconds\\n')\n",
    "    ML_algo.set_params(**best_params)\n",
    "\n",
    "run_total = time.perf_counter() - start_time\n",
    "print('Total optimization time was {:.2f} minutes.'.format(run_total/60))"
   ]
  },
  {
   "cell_type": "markdown",
   "metadata": {},
   "source": [
    "<a name='4.3'></a>\n",
    "## 4.3 Confusion matrix\n",
    "- Confusion matrix is a table describing the performance measurement of ML classification problems. The technique is performed on the set of validation data for which the true values are known\n",
    "\n",
    "<img src=\"images/confusion_matrix.png\" style=\"width:300px;height:200px;\">\n",
    "\n",
    "For those who confuse, the \"positive\" or \"negative\" depends on the purpose of the model. This model is used to predict the survival passengers --> \"positive\" means predict 1 as Survived & \"negative\" means predict 0 as not survived\n",
    "- **True positive (TP)**: \"True\" means the prediction value is similar to the actual value AND \"positive\" means models predict 1 as a survived passenger\n",
    "- **True negative (TN)**: \"True\" means the prediction value is similar to the actual value AND \"negative\" means models predict 0 as a non-survived passenger\n",
    "- **False negative (FN)**: \"False\" means the prediction value is different from the actual values AND \"negative\" means models predict 0 as a non-survived passenger\n",
    "- **False positive (FN)**: \"False\" means the prediction value is different from the actual values AND \"positive\" means models predict 1 as a survived passenger"
   ]
  },
  {
   "cell_type": "code",
   "execution_count": 53,
   "metadata": {},
   "outputs": [
    {
     "data": {
      "image/png": "[encoded data removed]",
      "text/plain": [
       "<Figure size 1440x1440 with 11 Axes>"
      ]
     },
     "metadata": {
      "needs_background": "light"
     },
     "output_type": "display_data"
    }
   ],
   "source": [
    "fig, axs = plt.subplots(3, 2, figsize=(20,20))\n",
    "axs = axs.flatten()\n",
    "\n",
    "i = 0\n",
    "for name, model in ML_algos.items():\n",
    "    y_pred = cross_val_predict(model, X_train, y_train, cv=10)\n",
    "    # Plotting the confusion matrix\n",
    "    sns.heatmap(np.flip(confusion_matrix(y_train, y_pred)), ax=axs[i], annot=True, fmt='2.0f', \n",
    "               annot_kws={\"size\":15})\n",
    "    axs[i].set_xticklabels(['1', '0'], fontsize=15)\n",
    "    axs[i].set_yticklabels(['1', '0'], fontsize=15)\n",
    "    axs[i].set_title(f\"Confusion matrix for {name}\", fontsize=18)\n",
    "    i += 1\n",
    "plt.show()"
   ]
  },
  {
   "cell_type": "markdown",
   "metadata": {},
   "source": [
    "<a name='4.4'></a>\n",
    "## 4.4 Ensemble model\n",
    "- The voting classifier can be a good choice to combine the predictions coming from the 5 classifiers."
   ]
  },
  {
   "cell_type": "code",
   "execution_count": 55,
   "metadata": {},
   "outputs": [],
   "source": [
    "voteC = ensemble.VotingClassifier(estimators=[('KNN_best', ML_algos['KNN']), ('SVC_best', ML_algos['SVC']),\n",
    "                                             ('GrB_best', ML_algos['GrB']), ('RFor_best', ML_algos['RFor']),\n",
    "                                             ('LReg_best', ML_algos['LReg'])],\n",
    "                                 voting='soft', n_jobs=4)\n",
    "voteC = voteC.fit(X_train, y_train)"
   ]
  },
  {
   "cell_type": "markdown",
   "metadata": {},
   "source": [
    "<a name='4.5'></a>\n",
    "## 4.5 Submission"
   ]
  },
  {
   "cell_type": "code",
   "execution_count": 57,
   "metadata": {},
   "outputs": [],
   "source": [
    "# Making the prediction\n",
    "y_pred = voteC.predict(X_test)\n",
    "\n",
    "submission = pd.DataFrame({\n",
    "        'PassengerId' : passengerID,\n",
    "        'Survived' : y_pred.astype(int)})\n",
    "\n",
    "# submission.to_csv('output/submission.csv', index=False)"
   ]
  },
  {
   "cell_type": "markdown",
   "metadata": {},
   "source": [
    "## Credit & Resource\n",
    "- Credit should be extended for [Anisotropic](https://www.kaggle.com/arthurtok) and [Gunes Evitan](https://www.kaggle.com/gunesevitan) and all super surportive Kaggler. Send a big thanks to all of them!\n",
    "- To [Dataquest](https://www.dataquest.io/?utm_source=google&utm_medium=cpc&utm_campaign&matchtype=e&device=c&campaignid=2083591861&adgroupid=75850930719&adid=482446438765&gclid=CjwKCAjwxo6IBhBKEiwAXSYBs5UgtShJIv7wWV0xdKvnKNUbQ-YyWCpZoUMlTh4fEpyhjU6ButFI0RoCMRAQAvD_BwE) where I start my journey\n",
    "- To [Coursera](https://www.coursera.org/) that provided me fundamental skills to get my feets wet\n",
    "<br>\n",
    "\n",
    "**Some great resource:**\n",
    "- For excellent materials on stacking or ensembling model, refers to a must-read article for all Kagglers [Kaggle Ensembling Guide](https://mlwave.com/kaggle-ensembling-guide/)\n",
    "- [Introduction to machine learning with Python: A Guide to data scientist](https://www.amazon.com/gp/product/1449369413/ref=as_li_tl?ie=UTF8&tag=kaggle-20&camp=1789&creative=9325&linkCode=as2&creativeASIN=1449369413&linkId=740510c3199892cca1632fe738fb8d08) written by core creators of sklearn\n",
    "- [Machine learning online course](https://www.coursera.org/learn/machine-learning?) hosted by Andrew Ng _ a pioneer in online education especially on ML & AI"
   ]
  },
  {
   "cell_type": "markdown",
   "metadata": {},
   "source": [
    "### If you find this notebook is helpful, please do the upvote and/or leave a comment!! "
   ]
  },
  {
   "cell_type": "code",
   "execution_count": null,
   "metadata": {},
   "outputs": [],
   "source": []
  }
 ],
 "metadata": {
  "kernelspec": {
   "display_name": "Python 3",
   "language": "python",
   "name": "python3"
  },
  "language_info": {
   "codemirror_mode": {
    "name": "ipython",
    "version": 3
   },
   "file_extension": ".py",
   "mimetype": "text/x-python",
   "name": "python",
   "nbconvert_exporter": "python",
   "pygments_lexer": "ipython3",
   "version": "3.8.3"
  }
 },
 "nbformat": 4,
 "nbformat_minor": 4
}
