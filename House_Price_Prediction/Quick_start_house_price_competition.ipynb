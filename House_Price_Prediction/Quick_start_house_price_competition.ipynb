{
 "cells": [
  {
   "cell_type": "markdown",
   "metadata": {},
   "source": [
    "# Quick start into house price competition\n",
    "This kernel is created for beginners who want to have a quick journey through the a whole house price prediction project. It contains loading data step, dealing with missing values, preprocess both categorical and numeric features for training the model, and modeling steps also. \n",
    "\n",
    "Because predicting the house's price is the regression problem, therefore xgboost regression model might be appropriate in this case. Eventhough it take some time to train the model, but this model will give us back the satisfied result for a quick start model. \n",
    "\n",
    "I encourage you to fork this kernel, play with the code and get an overview idea to jumping into this competitons. Good luck!\n",
    "\n",
    "If you like this kernel, please give it an upvote. Thank you!"
   ]
  },
  {
   "cell_type": "markdown",
   "metadata": {},
   "source": [
    "## Model performance\n",
    "The kernel results in nearly 0.13185 prediction score on the leaderboard, rank in the top 10% competitors"
   ]
  },
  {
   "cell_type": "markdown",
   "metadata": {},
   "source": [
    "## Kernel outline\n",
    "\n",
    "15/8/2021\n",
    "* [**1. Loading data**](#1)\n",
    "* [**2. Missing value**](#2)\n",
    "* [**3. Feature engineering**](#3)\n",
    "    * [3.1 Numeric features](#3.1)\n",
    "    * [3.2 Categorical features](#3.2)\n",
    "* [**4. Modeling**](#4)"
   ]
  },
  {
   "cell_type": "code",
   "execution_count": 1,
   "metadata": {},
   "outputs": [],
   "source": [
    "import pandas as pd\n",
    "import numpy as np\n",
    "import seaborn as sns\n",
    "sns.set_style('whitegrid')\n",
    "import matplotlib.pyplot as plt\n",
    "import missingno as msno\n",
    "%matplotlib inline  \n",
    "\n",
    "from scipy import stats\n",
    "from sklearn import preprocessing\n",
    "from sklearn import feature_selection\n",
    "import warnings\n",
    "warnings.filterwarnings('ignore')\n",
    "SEED = 42"
   ]
  },
  {
   "cell_type": "markdown",
   "metadata": {},
   "source": [
    "<a name='1'></a>\n",
    "# 1. Loading data"
   ]
  },
  {
   "cell_type": "code",
   "execution_count": 2,
   "metadata": {},
   "outputs": [],
   "source": [
    "def concat_df(train_data, test_data):\n",
    "    # Returns a concatenated df of training and test set\n",
    "    return pd.concat([train_data, test_data], sort=True).reset_index(drop=True)\n",
    "\n",
    "def divide_df(all_data):\n",
    "    # Returns divided dfs of training and test set\n",
    "    return all_data.loc[:1459], all_data.loc[1460:]\n",
    "\n",
    "df_train = pd.read_csv('data/train.csv')\n",
    "y_train = df_train.SalePrice\n",
    "id_val = df_train.Id\n",
    "df_test = pd.read_csv('data/test.csv')\n",
    "df_all = concat_df(df_train, df_test).drop(['SalePrice', 'Id'], axis=1)"
   ]
  },
  {
   "cell_type": "code",
   "execution_count": 3,
   "metadata": {},
   "outputs": [
    {
     "data": {
      "text/html": [
       "<div>\n",
       "<style scoped>\n",
       "    .dataframe tbody tr th:only-of-type {\n",
       "        vertical-align: middle;\n",
       "    }\n",
       "\n",
       "    .dataframe tbody tr th {\n",
       "        vertical-align: top;\n",
       "    }\n",
       "\n",
       "    .dataframe thead th {\n",
       "        text-align: right;\n",
       "    }\n",
       "</style>\n",
       "<table border=\"1\" class=\"dataframe\">\n",
       "  <thead>\n",
       "    <tr style=\"text-align: right;\">\n",
       "      <th></th>\n",
       "      <th>1stFlrSF</th>\n",
       "      <th>2ndFlrSF</th>\n",
       "      <th>3SsnPorch</th>\n",
       "      <th>Alley</th>\n",
       "      <th>BedroomAbvGr</th>\n",
       "      <th>BldgType</th>\n",
       "      <th>BsmtCond</th>\n",
       "      <th>BsmtExposure</th>\n",
       "      <th>BsmtFinSF1</th>\n",
       "      <th>BsmtFinSF2</th>\n",
       "      <th>...</th>\n",
       "      <th>SaleType</th>\n",
       "      <th>ScreenPorch</th>\n",
       "      <th>Street</th>\n",
       "      <th>TotRmsAbvGrd</th>\n",
       "      <th>TotalBsmtSF</th>\n",
       "      <th>Utilities</th>\n",
       "      <th>WoodDeckSF</th>\n",
       "      <th>YearBuilt</th>\n",
       "      <th>YearRemodAdd</th>\n",
       "      <th>YrSold</th>\n",
       "    </tr>\n",
       "  </thead>\n",
       "  <tbody>\n",
       "    <tr>\n",
       "      <th>0</th>\n",
       "      <td>856</td>\n",
       "      <td>854</td>\n",
       "      <td>0</td>\n",
       "      <td>NaN</td>\n",
       "      <td>3</td>\n",
       "      <td>1Fam</td>\n",
       "      <td>TA</td>\n",
       "      <td>No</td>\n",
       "      <td>706.0</td>\n",
       "      <td>0.0</td>\n",
       "      <td>...</td>\n",
       "      <td>WD</td>\n",
       "      <td>0</td>\n",
       "      <td>Pave</td>\n",
       "      <td>8</td>\n",
       "      <td>856.0</td>\n",
       "      <td>AllPub</td>\n",
       "      <td>0</td>\n",
       "      <td>2003</td>\n",
       "      <td>2003</td>\n",
       "      <td>2008</td>\n",
       "    </tr>\n",
       "    <tr>\n",
       "      <th>1</th>\n",
       "      <td>1262</td>\n",
       "      <td>0</td>\n",
       "      <td>0</td>\n",
       "      <td>NaN</td>\n",
       "      <td>3</td>\n",
       "      <td>1Fam</td>\n",
       "      <td>TA</td>\n",
       "      <td>Gd</td>\n",
       "      <td>978.0</td>\n",
       "      <td>0.0</td>\n",
       "      <td>...</td>\n",
       "      <td>WD</td>\n",
       "      <td>0</td>\n",
       "      <td>Pave</td>\n",
       "      <td>6</td>\n",
       "      <td>1262.0</td>\n",
       "      <td>AllPub</td>\n",
       "      <td>298</td>\n",
       "      <td>1976</td>\n",
       "      <td>1976</td>\n",
       "      <td>2007</td>\n",
       "    </tr>\n",
       "    <tr>\n",
       "      <th>2</th>\n",
       "      <td>920</td>\n",
       "      <td>866</td>\n",
       "      <td>0</td>\n",
       "      <td>NaN</td>\n",
       "      <td>3</td>\n",
       "      <td>1Fam</td>\n",
       "      <td>TA</td>\n",
       "      <td>Mn</td>\n",
       "      <td>486.0</td>\n",
       "      <td>0.0</td>\n",
       "      <td>...</td>\n",
       "      <td>WD</td>\n",
       "      <td>0</td>\n",
       "      <td>Pave</td>\n",
       "      <td>6</td>\n",
       "      <td>920.0</td>\n",
       "      <td>AllPub</td>\n",
       "      <td>0</td>\n",
       "      <td>2001</td>\n",
       "      <td>2002</td>\n",
       "      <td>2008</td>\n",
       "    </tr>\n",
       "    <tr>\n",
       "      <th>3</th>\n",
       "      <td>961</td>\n",
       "      <td>756</td>\n",
       "      <td>0</td>\n",
       "      <td>NaN</td>\n",
       "      <td>3</td>\n",
       "      <td>1Fam</td>\n",
       "      <td>Gd</td>\n",
       "      <td>No</td>\n",
       "      <td>216.0</td>\n",
       "      <td>0.0</td>\n",
       "      <td>...</td>\n",
       "      <td>WD</td>\n",
       "      <td>0</td>\n",
       "      <td>Pave</td>\n",
       "      <td>7</td>\n",
       "      <td>756.0</td>\n",
       "      <td>AllPub</td>\n",
       "      <td>0</td>\n",
       "      <td>1915</td>\n",
       "      <td>1970</td>\n",
       "      <td>2006</td>\n",
       "    </tr>\n",
       "    <tr>\n",
       "      <th>4</th>\n",
       "      <td>1145</td>\n",
       "      <td>1053</td>\n",
       "      <td>0</td>\n",
       "      <td>NaN</td>\n",
       "      <td>4</td>\n",
       "      <td>1Fam</td>\n",
       "      <td>TA</td>\n",
       "      <td>Av</td>\n",
       "      <td>655.0</td>\n",
       "      <td>0.0</td>\n",
       "      <td>...</td>\n",
       "      <td>WD</td>\n",
       "      <td>0</td>\n",
       "      <td>Pave</td>\n",
       "      <td>9</td>\n",
       "      <td>1145.0</td>\n",
       "      <td>AllPub</td>\n",
       "      <td>192</td>\n",
       "      <td>2000</td>\n",
       "      <td>2000</td>\n",
       "      <td>2008</td>\n",
       "    </tr>\n",
       "  </tbody>\n",
       "</table>\n",
       "<p>5 rows × 79 columns</p>\n",
       "</div>"
      ],
      "text/plain": [
       "   1stFlrSF  2ndFlrSF  3SsnPorch Alley  BedroomAbvGr BldgType BsmtCond  \\\n",
       "0       856       854          0   NaN             3     1Fam       TA   \n",
       "1      1262         0          0   NaN             3     1Fam       TA   \n",
       "2       920       866          0   NaN             3     1Fam       TA   \n",
       "3       961       756          0   NaN             3     1Fam       Gd   \n",
       "4      1145      1053          0   NaN             4     1Fam       TA   \n",
       "\n",
       "  BsmtExposure  BsmtFinSF1  BsmtFinSF2  ... SaleType ScreenPorch  Street  \\\n",
       "0           No       706.0         0.0  ...       WD           0    Pave   \n",
       "1           Gd       978.0         0.0  ...       WD           0    Pave   \n",
       "2           Mn       486.0         0.0  ...       WD           0    Pave   \n",
       "3           No       216.0         0.0  ...       WD           0    Pave   \n",
       "4           Av       655.0         0.0  ...       WD           0    Pave   \n",
       "\n",
       "   TotRmsAbvGrd TotalBsmtSF  Utilities WoodDeckSF YearBuilt YearRemodAdd  \\\n",
       "0             8       856.0     AllPub          0      2003         2003   \n",
       "1             6      1262.0     AllPub        298      1976         1976   \n",
       "2             6       920.0     AllPub          0      2001         2002   \n",
       "3             7       756.0     AllPub          0      1915         1970   \n",
       "4             9      1145.0     AllPub        192      2000         2000   \n",
       "\n",
       "  YrSold  \n",
       "0   2008  \n",
       "1   2007  \n",
       "2   2008  \n",
       "3   2006  \n",
       "4   2008  \n",
       "\n",
       "[5 rows x 79 columns]"
      ]
     },
     "execution_count": 3,
     "metadata": {},
     "output_type": "execute_result"
    }
   ],
   "source": [
    "df_all.head()"
   ]
  },
  {
   "cell_type": "markdown",
   "metadata": {},
   "source": [
    "<a name='2'></a>\n",
    "# 2. Missing value\n",
    "I divide the set of missing value into 3 types: \n",
    "- (1) feature having below 100 missing values\n",
    "- (2) Feature having more than 1000 missing values\n",
    "- (3) The other missing value features"
   ]
  },
  {
   "cell_type": "code",
   "execution_count": 4,
   "metadata": {},
   "outputs": [],
   "source": [
    "null_features = df_all.isnull().sum()\n",
    "\n",
    "# For features having smaller than 100 missing values\n",
    "null_100 = df_all.columns[list((null_features < 100) & (null_features != 0))]\n",
    "num = df_all[null_100].select_dtypes(include=np.number).columns\n",
    "non_num = df_all[null_100].select_dtypes(include='object').columns\n",
    "# Numerous features\n",
    "df_all[num] = df_all[num].apply(lambda x: x.fillna(x.median()))\n",
    "# Object features\n",
    "df_all[non_num] = df_all[non_num].apply(lambda x: x.fillna(x.value_counts().index[0]))\n",
    "\n",
    "# For features having larger than 1000 missing values\n",
    "null_1000 = df_all.columns[list(null_features > 1000)]\n",
    "df_all.drop(null_1000, axis=1, inplace=True)\n",
    "df_all.drop(['GarageYrBlt', 'LotFrontage'], axis=1, inplace=True)\n",
    "\n",
    "# For other features having missing values\n",
    "# GarageCond\n",
    "df_all['GarageCond'] = df_all['GarageCond'].fillna('Null')\n",
    "# GarageFinish\n",
    "df_all['GarageFinish'] = df_all['GarageFinish'].fillna('Null')\n",
    "# GarageQual\n",
    "df_all['GarageQual'] = df_all['GarageQual'].fillna('Null')\n",
    "# GarageType\n",
    "df_all['GarageType'] = df_all['GarageType'].fillna('Null')"
   ]
  },
  {
   "cell_type": "code",
   "execution_count": 5,
   "metadata": {},
   "outputs": [
    {
     "name": "stdout",
     "output_type": "stream",
     "text": [
      "0\n"
     ]
    }
   ],
   "source": [
    "df_train, df_test = divide_df(df_all)\n",
    "df_train = pd.concat([df_train, y_train], axis=1)  # Concatenate for analysis\n",
    "\n",
    "# Checking existing missing value or not\n",
    "print(df_all.isnull().any().sum())"
   ]
  },
  {
   "cell_type": "markdown",
   "metadata": {},
   "source": [
    "<a name='3'></a>\n",
    "# 3. Feature engineering"
   ]
  },
  {
   "cell_type": "markdown",
   "metadata": {},
   "source": [
    "Using \"Bin\" technique for all features having value representing \"year\" & encode them by label encoding technique"
   ]
  },
  {
   "cell_type": "code",
   "execution_count": 6,
   "metadata": {},
   "outputs": [],
   "source": [
    "# Using binned technique for \"YearBuilt\", \"YearRemodAdd\" & \"YrSold\"\n",
    "df_all['YearBuilt'] = pd.qcut(df_all['YearBuilt'], 10, duplicates='drop')\n",
    "df_all['YearRemodAdd'] = pd.qcut(df_all['YearRemodAdd'], 10, duplicates='drop')\n",
    "df_all['YrSold'] = pd.qcut(df_all['YrSold'], 10, duplicates='drop')"
   ]
  },
  {
   "cell_type": "code",
   "execution_count": 7,
   "metadata": {},
   "outputs": [],
   "source": [
    "# Encode categorical features to numeric feature\n",
    "for cate_col in ['YearBuilt', 'YearRemodAdd', 'YrSold']:\n",
    "    df_all[cate_col] = preprocessing.LabelEncoder().fit_transform(df_all[cate_col].values)\n",
    "    \n",
    "df_train, df_test = divide_df(df_all)"
   ]
  },
  {
   "cell_type": "markdown",
   "metadata": {},
   "source": [
    "<a name='3.1'></a>\n",
    "## 3.1 Numeric features"
   ]
  },
  {
   "cell_type": "markdown",
   "metadata": {},
   "source": [
    "Adding some important features"
   ]
  },
  {
   "cell_type": "code",
   "execution_count": 8,
   "metadata": {},
   "outputs": [],
   "source": [
    "# Total square feet of porch in a house\n",
    "df_all['TotalPorchSF'] = (df_all['OpenPorchSF'] + df_all['3SsnPorch'] +\n",
    "                          df_all['EnclosedPorch'] + df_all['ScreenPorch'] + df_all['WoodDeckSF'])\n",
    "df_all['HasGarage'] = df_all['GarageArea'].apply(lambda x: 1 if x > 0 else 0)\n",
    "# Total number of bathroom\n",
    "df_all['TotalBath'] = (df_all['FullBath'] + (0.5 * df_all['HalfBath']) +\n",
    "                       df_all['BsmtFullBath'] + (0.5 * df_all['BsmtHalfBath']))\n",
    "# House having the fire place or not\n",
    "df_all['HasFireplace'] = df_all['Fireplaces'].apply(lambda x: 1 if x > 0 else 0)\n",
    "# Total number of bathroom in basement\n",
    "df_all['TotalBsmtbath'] = df_all['BsmtFullBath'] + (0.5 * df_all['BsmtHalfBath'])\n",
    "# Total square foot\n",
    "df_all['TotalSF'] = df_all['BsmtFinSF1'] + df_all['BsmtFinSF2'] + df_all['1stFlrSF'] + df_all['2ndFlrSF']"
   ]
  },
  {
   "cell_type": "code",
   "execution_count": 9,
   "metadata": {},
   "outputs": [],
   "source": [
    "df_all.drop(['OpenPorchSF', '3SsnPorch', 'EnclosedPorch', 'ScreenPorch', 'WoodDeckSF', 'FullBath', 'HalfBath',\n",
    "            'BsmtFullBath', 'BsmtHalfBath'], axis=1, inplace=True)"
   ]
  },
  {
   "cell_type": "markdown",
   "metadata": {},
   "source": [
    "Choosing numeric feature and normalize highly skewed features"
   ]
  },
  {
   "cell_type": "code",
   "execution_count": 10,
   "metadata": {},
   "outputs": [],
   "source": [
    "num_features = ['OverallQual', 'GrLivArea', 'TotalSF', 'GarageCars', 'TotalBath', 'GarageArea', 'TotalBsmtSF',\n",
    " '1stFlrSF', 'TotRmsAbvGrd', 'MasVnrArea', 'HasFireplace', 'Fireplaces', 'TotalPorchSF', '2ndFlrSF',\n",
    " 'LotArea', 'HasGarage', 'TotalBsmtbath', 'BsmtUnfSF', 'YearBuilt', 'YearRemodAdd', 'YrSold']\n",
    "\n",
    "# Drop the unused numeric columns also\n",
    "numeric_dtypes = ['int16', 'int32', 'int64', 'float16', 'float32', 'float64']\n",
    "num_cols = df_all.select_dtypes(include=numeric_dtypes).columns\n",
    "drop_num = np.setdiff1d(num_cols, num_features)\n",
    "\n",
    "df_all.drop(drop_num, axis=1, inplace=True)"
   ]
  },
  {
   "cell_type": "code",
   "execution_count": 11,
   "metadata": {},
   "outputs": [
    {
     "name": "stdout",
     "output_type": "stream",
     "text": [
      "LotArea          12.822431\n",
      "MasVnrArea        2.613592\n",
      "TotalSF           1.835745\n",
      "1stFlrSF          1.469604\n",
      "TotalPorchSF      1.376649\n",
      "GrLivArea         1.269358\n",
      "TotalBsmtSF       1.162616\n",
      "BsmtUnfSF         0.919703\n",
      "2ndFlrSF          0.861675\n",
      "TotRmsAbvGrd      0.758367\n",
      "Fireplaces        0.733495\n",
      "YrSold            0.566501\n",
      "TotalBsmtbath     0.550351\n",
      "HasGarage        -3.955907\n",
      "dtype: float64\n"
     ]
    }
   ],
   "source": [
    "# Normalize skewness feature using Log function\n",
    "skew_features = df_all[num_features].apply(lambda x: stats.skew(x)).sort_values(ascending=False)\n",
    "skew_features = skew_features[abs(skew_features) > 0.5]\n",
    "print(skew_features) \n",
    "\n",
    "# Apply Box cox for skewness > 0.75\n",
    "for feat in skew_features.index:\n",
    "    df_all[feat] = np.log1p(df_all[feat])\n",
    "\n",
    "df_train, df_test = divide_df(df_all)"
   ]
  },
  {
   "cell_type": "code",
   "execution_count": 12,
   "metadata": {},
   "outputs": [
    {
     "data": {
      "text/html": [
       "<div>\n",
       "<style scoped>\n",
       "    .dataframe tbody tr th:only-of-type {\n",
       "        vertical-align: middle;\n",
       "    }\n",
       "\n",
       "    .dataframe tbody tr th {\n",
       "        vertical-align: top;\n",
       "    }\n",
       "\n",
       "    .dataframe thead th {\n",
       "        text-align: right;\n",
       "    }\n",
       "</style>\n",
       "<table border=\"1\" class=\"dataframe\">\n",
       "  <thead>\n",
       "    <tr style=\"text-align: right;\">\n",
       "      <th></th>\n",
       "      <th>OverallQual</th>\n",
       "      <th>GrLivArea</th>\n",
       "      <th>TotalSF</th>\n",
       "      <th>GarageCars</th>\n",
       "      <th>TotalBath</th>\n",
       "      <th>GarageArea</th>\n",
       "      <th>TotalBsmtSF</th>\n",
       "      <th>1stFlrSF</th>\n",
       "      <th>TotRmsAbvGrd</th>\n",
       "      <th>MasVnrArea</th>\n",
       "      <th>...</th>\n",
       "      <th>Fireplaces</th>\n",
       "      <th>TotalPorchSF</th>\n",
       "      <th>2ndFlrSF</th>\n",
       "      <th>LotArea</th>\n",
       "      <th>HasGarage</th>\n",
       "      <th>TotalBsmtbath</th>\n",
       "      <th>BsmtUnfSF</th>\n",
       "      <th>YearBuilt</th>\n",
       "      <th>YearRemodAdd</th>\n",
       "      <th>YrSold</th>\n",
       "    </tr>\n",
       "  </thead>\n",
       "  <tbody>\n",
       "    <tr>\n",
       "      <th>0</th>\n",
       "      <td>7</td>\n",
       "      <td>7.444833</td>\n",
       "      <td>7.790282</td>\n",
       "      <td>2.0</td>\n",
       "      <td>3.5</td>\n",
       "      <td>548.0</td>\n",
       "      <td>6.753438</td>\n",
       "      <td>6.753438</td>\n",
       "      <td>2.197225</td>\n",
       "      <td>5.283204</td>\n",
       "      <td>...</td>\n",
       "      <td>0.000000</td>\n",
       "      <td>4.127134</td>\n",
       "      <td>6.751101</td>\n",
       "      <td>9.042040</td>\n",
       "      <td>0.693147</td>\n",
       "      <td>0.693147</td>\n",
       "      <td>5.017280</td>\n",
       "      <td>7</td>\n",
       "      <td>6</td>\n",
       "      <td>0.693147</td>\n",
       "    </tr>\n",
       "    <tr>\n",
       "      <th>1</th>\n",
       "      <td>6</td>\n",
       "      <td>7.141245</td>\n",
       "      <td>7.714677</td>\n",
       "      <td>2.0</td>\n",
       "      <td>2.5</td>\n",
       "      <td>460.0</td>\n",
       "      <td>7.141245</td>\n",
       "      <td>7.141245</td>\n",
       "      <td>1.945910</td>\n",
       "      <td>0.000000</td>\n",
       "      <td>...</td>\n",
       "      <td>0.693147</td>\n",
       "      <td>5.700444</td>\n",
       "      <td>0.000000</td>\n",
       "      <td>9.169623</td>\n",
       "      <td>0.693147</td>\n",
       "      <td>0.405465</td>\n",
       "      <td>5.652489</td>\n",
       "      <td>5</td>\n",
       "      <td>2</td>\n",
       "      <td>0.000000</td>\n",
       "    </tr>\n",
       "    <tr>\n",
       "      <th>2</th>\n",
       "      <td>7</td>\n",
       "      <td>7.488294</td>\n",
       "      <td>7.728856</td>\n",
       "      <td>2.0</td>\n",
       "      <td>3.5</td>\n",
       "      <td>608.0</td>\n",
       "      <td>6.825460</td>\n",
       "      <td>6.825460</td>\n",
       "      <td>1.945910</td>\n",
       "      <td>5.093750</td>\n",
       "      <td>...</td>\n",
       "      <td>0.693147</td>\n",
       "      <td>3.761200</td>\n",
       "      <td>6.765039</td>\n",
       "      <td>9.328212</td>\n",
       "      <td>0.693147</td>\n",
       "      <td>0.693147</td>\n",
       "      <td>6.075346</td>\n",
       "      <td>7</td>\n",
       "      <td>5</td>\n",
       "      <td>0.693147</td>\n",
       "    </tr>\n",
       "    <tr>\n",
       "      <th>3</th>\n",
       "      <td>7</td>\n",
       "      <td>7.448916</td>\n",
       "      <td>7.567346</td>\n",
       "      <td>3.0</td>\n",
       "      <td>2.0</td>\n",
       "      <td>642.0</td>\n",
       "      <td>6.629363</td>\n",
       "      <td>6.869014</td>\n",
       "      <td>2.079442</td>\n",
       "      <td>0.000000</td>\n",
       "      <td>...</td>\n",
       "      <td>0.693147</td>\n",
       "      <td>5.730100</td>\n",
       "      <td>6.629363</td>\n",
       "      <td>9.164401</td>\n",
       "      <td>0.693147</td>\n",
       "      <td>0.693147</td>\n",
       "      <td>6.293419</td>\n",
       "      <td>0</td>\n",
       "      <td>1</td>\n",
       "      <td>0.000000</td>\n",
       "    </tr>\n",
       "    <tr>\n",
       "      <th>4</th>\n",
       "      <td>8</td>\n",
       "      <td>7.695758</td>\n",
       "      <td>7.956477</td>\n",
       "      <td>3.0</td>\n",
       "      <td>3.5</td>\n",
       "      <td>836.0</td>\n",
       "      <td>7.044033</td>\n",
       "      <td>7.044033</td>\n",
       "      <td>2.302585</td>\n",
       "      <td>5.860786</td>\n",
       "      <td>...</td>\n",
       "      <td>0.693147</td>\n",
       "      <td>5.624018</td>\n",
       "      <td>6.960348</td>\n",
       "      <td>9.565284</td>\n",
       "      <td>0.693147</td>\n",
       "      <td>0.693147</td>\n",
       "      <td>6.196444</td>\n",
       "      <td>7</td>\n",
       "      <td>5</td>\n",
       "      <td>0.693147</td>\n",
       "    </tr>\n",
       "  </tbody>\n",
       "</table>\n",
       "<p>5 rows × 21 columns</p>\n",
       "</div>"
      ],
      "text/plain": [
       "   OverallQual  GrLivArea   TotalSF  GarageCars  TotalBath  GarageArea  \\\n",
       "0            7   7.444833  7.790282         2.0        3.5       548.0   \n",
       "1            6   7.141245  7.714677         2.0        2.5       460.0   \n",
       "2            7   7.488294  7.728856         2.0        3.5       608.0   \n",
       "3            7   7.448916  7.567346         3.0        2.0       642.0   \n",
       "4            8   7.695758  7.956477         3.0        3.5       836.0   \n",
       "\n",
       "   TotalBsmtSF  1stFlrSF  TotRmsAbvGrd  MasVnrArea  ...  Fireplaces  \\\n",
       "0     6.753438  6.753438      2.197225    5.283204  ...    0.000000   \n",
       "1     7.141245  7.141245      1.945910    0.000000  ...    0.693147   \n",
       "2     6.825460  6.825460      1.945910    5.093750  ...    0.693147   \n",
       "3     6.629363  6.869014      2.079442    0.000000  ...    0.693147   \n",
       "4     7.044033  7.044033      2.302585    5.860786  ...    0.693147   \n",
       "\n",
       "   TotalPorchSF  2ndFlrSF   LotArea  HasGarage  TotalBsmtbath  BsmtUnfSF  \\\n",
       "0      4.127134  6.751101  9.042040   0.693147       0.693147   5.017280   \n",
       "1      5.700444  0.000000  9.169623   0.693147       0.405465   5.652489   \n",
       "2      3.761200  6.765039  9.328212   0.693147       0.693147   6.075346   \n",
       "3      5.730100  6.629363  9.164401   0.693147       0.693147   6.293419   \n",
       "4      5.624018  6.960348  9.565284   0.693147       0.693147   6.196444   \n",
       "\n",
       "   YearBuilt  YearRemodAdd    YrSold  \n",
       "0          7             6  0.693147  \n",
       "1          5             2  0.000000  \n",
       "2          7             5  0.693147  \n",
       "3          0             1  0.000000  \n",
       "4          7             5  0.693147  \n",
       "\n",
       "[5 rows x 21 columns]"
      ]
     },
     "execution_count": 12,
     "metadata": {},
     "output_type": "execute_result"
    }
   ],
   "source": [
    "df_train[num_features].head()"
   ]
  },
  {
   "cell_type": "markdown",
   "metadata": {},
   "source": [
    "<a name='3.2'></a>\n",
    "## 3.2 Categorical features"
   ]
  },
  {
   "cell_type": "markdown",
   "metadata": {},
   "source": [
    "Some features having some values exist in training dataset but not in testing dataset --> Fix it"
   ]
  },
  {
   "cell_type": "code",
   "execution_count": 13,
   "metadata": {},
   "outputs": [],
   "source": [
    "# \"Electrical\" features\n",
    "df_train['Electrical'].loc[df_train['Electrical']=='Mix'] = 'SBrkr'\n",
    "# \"Exterior2nd\" features\n",
    "df_train['Exterior2nd'].loc[df_train['Exterior2nd']=='Other'] = 'VinylSd'\n",
    "# \"Heating\" features\n",
    "df_train['Heating'].loc[df_train['Heating']=='OthW'] = 'GasA'\n",
    "df_train['Heating'].loc[df_train['Heating']=='Floor'] = 'GasA'\n",
    "# \"HouseStyle\" features\n",
    "df_train['HouseStyle'].loc[df_train['HouseStyle']=='2.5Fin'] = '1.5Fin'"
   ]
  },
  {
   "cell_type": "markdown",
   "metadata": {},
   "source": [
    "Choosing the appropriate categorical features"
   ]
  },
  {
   "cell_type": "code",
   "execution_count": 14,
   "metadata": {},
   "outputs": [],
   "source": [
    "cate_features = ['BldgType', 'BsmtExposure', 'BsmtFinType1', 'BsmtQual', 'CentralAir', 'Condition1', 'Electrical',\n",
    " 'ExterCond', 'ExterQual', 'Exterior2nd', 'Functional', 'GarageCond', 'GarageType', 'Heating', 'HouseStyle',\n",
    " 'KitchenQual', 'LandContour', 'LandSlope', 'LotShape', 'Neighborhood', 'PavedDrive', 'RoofStyle',\n",
    " 'SaleCondition', 'SaleType', 'Street', 'YearBuilt', 'YearRemodAdd', 'YrSold']\n",
    "\n",
    "# Drop the unused categorical columns by choosing the only set of columns above\n",
    "cols = df_train.select_dtypes(include=['object', 'category']).columns\n",
    "drop_cate = np.setdiff1d(cols, cate_features)\n",
    "\n",
    "df_train.drop(drop_cate, axis=1, inplace=True)\n",
    "df_test.drop(drop_cate, axis=1, inplace=True)"
   ]
  },
  {
   "cell_type": "markdown",
   "metadata": {},
   "source": [
    "Encode the categorical features by using One-hot encoding technique"
   ]
  },
  {
   "cell_type": "code",
   "execution_count": 15,
   "metadata": {},
   "outputs": [
    {
     "name": "stdout",
     "output_type": "stream",
     "text": [
      "(1460, 46) (1459, 46)\n"
     ]
    }
   ],
   "source": [
    "print(df_train.shape, df_test.shape)"
   ]
  },
  {
   "cell_type": "code",
   "execution_count": 16,
   "metadata": {},
   "outputs": [],
   "source": [
    "# Transform categorical feature to dummies features\n",
    "encoded_features = list()\n",
    "\n",
    "for df in [df_train, df_test]:\n",
    "    for feature in cate_features:\n",
    "        # Change to array after encoding b.c want to add columns when change back to df\n",
    "        encoded_feat = preprocessing.OneHotEncoder().fit_transform(df[feature].values.reshape(-1, 1)).toarray()\n",
    "        # \"n\": Number of unique value in each feature\n",
    "        n = df[feature].nunique()\n",
    "        # \"feature_uniqueVal\" are the col's names in df after One-hot encoding\n",
    "        cols = ['{}_{}'.format(feature, n) for n in range(1, n + 1)]\n",
    "        \n",
    "        encoded_df = pd.DataFrame(encoded_feat, columns=cols)\n",
    "        encoded_df.index = df.index\n",
    "        encoded_features.append(encoded_df)\n",
    "        \n",
    "df_train = pd.concat([df_train, *encoded_features[:len(cate_features)]], axis=1)\n",
    "df_test = pd.concat([df_test, *encoded_features[len(cate_features):]], axis=1)"
   ]
  },
  {
   "cell_type": "code",
   "execution_count": 17,
   "metadata": {},
   "outputs": [
    {
     "name": "stdout",
     "output_type": "stream",
     "text": [
      "(1460, 224) (1459, 224)\n"
     ]
    }
   ],
   "source": [
    "print(df_train.shape, df_test.shape)"
   ]
  },
  {
   "cell_type": "markdown",
   "metadata": {},
   "source": [
    "Drop original category features, we only use one-hot features to train the model"
   ]
  },
  {
   "cell_type": "code",
   "execution_count": 18,
   "metadata": {},
   "outputs": [],
   "source": [
    "# Drop original category features\n",
    "df_train.drop(cate_features, axis=1, inplace=True)\n",
    "df_test.drop(cate_features, axis=1, inplace=True)\n",
    "\n",
    "df_all = concat_df(df_train, df_test)"
   ]
  },
  {
   "cell_type": "code",
   "execution_count": 19,
   "metadata": {},
   "outputs": [
    {
     "name": "stdout",
     "output_type": "stream",
     "text": [
      "(1460, 196) (1459, 196)\n"
     ]
    }
   ],
   "source": [
    "print(df_train.shape, df_test.shape)"
   ]
  },
  {
   "cell_type": "markdown",
   "metadata": {},
   "source": [
    "<a name='4'></a>\n",
    "# 4. Modeling "
   ]
  },
  {
   "cell_type": "code",
   "execution_count": 20,
   "metadata": {},
   "outputs": [],
   "source": [
    "from sklearn.model_selection import KFold # for repeated K-fold cross validation\n",
    "from sklearn.metrics import mean_squared_error\n",
    "from xgboost import XGBRegressor\n",
    "from sklearn.model_selection import cross_val_score # score evaluation"
   ]
  },
  {
   "cell_type": "code",
   "execution_count": 21,
   "metadata": {},
   "outputs": [],
   "source": [
    "# Repeated K-fold cross validation\n",
    "kfolds = KFold(n_splits=10, shuffle=True, random_state=SEED)\n",
    "\n",
    "# Return root mean square error applied cross validation (Used for training prediction)\n",
    "def evaluate_model_cv(model, X, y):\n",
    "    rmse = np.sqrt(-cross_val_score(model, X, y, scoring=\"neg_mean_squared_error\", cv=kfolds))\n",
    "    return (rmse)"
   ]
  },
  {
   "cell_type": "code",
   "execution_count": 22,
   "metadata": {},
   "outputs": [],
   "source": [
    "# Base model\n",
    "xgboost = XGBRegressor(learning_rate=0.01, n_estimators=3460,\n",
    "                       max_depth=3, min_child_weight=0,\n",
    "                       gamma=0, subsample=0.7,\n",
    "                       colsample_bytree=0.7, verbosity = 0,\n",
    "                       objective='reg:squarederror', nthread=-1,\n",
    "                       scale_pos_weight=1, seed=SEED, reg_alpha=0.00006)"
   ]
  },
  {
   "cell_type": "code",
   "execution_count": 24,
   "metadata": {},
   "outputs": [
    {
     "name": "stdout",
     "output_type": "stream",
     "text": [
      "Finish training\n",
      "xgboost's rmse (apply cv) after training: 24882.44698674618\n",
      "\n"
     ]
    }
   ],
   "source": [
    "# Training model & find root mean square error (With cross validation technqiue)\n",
    "xgboost = xgboost.fit(np.array(df_train), np.array(y_train))\n",
    "print('Finish training')\n",
    "cv_rmse_result = evaluate_model_cv(xgboost, np.array(df_train), np.array(y_train))\n",
    "print(f'xgboost\\'s rmse (apply cv) after training: {np.mean(cv_rmse_result)}\\n')"
   ]
  },
  {
   "cell_type": "markdown",
   "metadata": {},
   "source": [
    "Create the submission"
   ]
  },
  {
   "cell_type": "code",
   "execution_count": 28,
   "metadata": {},
   "outputs": [],
   "source": [
    "# Testing ID\n",
    "test = pd.read_csv('data/test.csv')\n",
    "test_id = test['Id']\n",
    "\n",
    "# When normalize the target\n",
    "submit = pd.concat((test_id, \n",
    "                    pd.Series(xgboost.predict(np.array(df_test)), name='SalePrice')), axis=1)\n",
    "submit.to_csv('Submission.csv', index=False)"
   ]
  },
  {
   "cell_type": "markdown",
   "metadata": {},
   "source": [
    "We got nearly 0.13185 prediction score on the leaderboard, rank in the top 10% competitor, I think this score is not a bad start"
   ]
  },
  {
   "cell_type": "code",
   "execution_count": null,
   "metadata": {},
   "outputs": [],
   "source": []
  }
 ],
 "metadata": {
  "kernelspec": {
   "display_name": "Python 3",
   "language": "python",
   "name": "python3"
  },
  "language_info": {
   "codemirror_mode": {
    "name": "ipython",
    "version": 3
   },
   "file_extension": ".py",
   "mimetype": "text/x-python",
   "name": "python",
   "nbconvert_exporter": "python",
   "pygments_lexer": "ipython3",
   "version": "3.8.3"
  }
 },
 "nbformat": 4,
 "nbformat_minor": 4
}
